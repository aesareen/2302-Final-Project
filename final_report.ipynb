{
 "cells": [
  {
   "cell_type": "markdown",
   "id": "5f6fd4a1",
   "metadata": {},
   "source": [
    "# NYC's Mascot: Investing Rodent Inspections Across New York City\n",
    "## DTSC 2302 Final Project\n",
    "### *By Arnav Sareen, Rohan Salwekar, Sindhu Gadiraju, and RJ Wright*"
   ]
  },
  {
   "cell_type": "code",
   "execution_count": 1,
   "id": "955deaac",
   "metadata": {},
   "outputs": [],
   "source": [
    "import pandas as pd\n",
    "import polars as pl\n",
    "import matplotlib.pyplot as plt\n",
    "import joblib"
   ]
  },
  {
   "cell_type": "markdown",
   "id": "a92212e6",
   "metadata": {},
   "source": [
    "## Introduction"
   ]
  },
  {
   "cell_type": "markdown",
   "id": "2aae3716",
   "metadata": {},
   "source": [
    "## Data Description"
   ]
  },
  {
   "cell_type": "markdown",
   "id": "30129acc",
   "metadata": {},
   "source": [
    "Our dataset contains a [Data Dictionary](https://github.com/aesareen/2302-Final-Project/blob/main/data_dictionary.pdf) which we have attached as further reference. The dataset contains `2,750,046` rows, which represents all of the rodents inspections until April 10th, 2025. There are 18 feature columns and then 1 target column, though some features columns have relatively redundant information that we did not leverage. Notable features are summarized below:\n",
    "\n",
    "`INSPECTION_TYPE`: Specifies type of inspection done (Initial, Compliance, Baiting, Clean Up, Etc...) <br>\n",
    "`JOB_ID`: Unique Job ID to identify a Job <br>\n",
    "`BLOCK`: The block number for hte inspected tax lot (not unique to every borough) <br>\n",
    "`STREETNAME`: The street name portion of the address of the taxlot inspected <br>\n",
    "`BOROUGH`: Name of the NYC Borough <br>\n",
    "`LATITUDE`: Latitude in decimal degrees of the inspected <br>\n",
    "`LONGITUDE`: Longitude in decimal degrees of inspected taxlot <br>\n",
    "`INSPECTION_DATE`: Date of Inspection <br>\n",
    "`RESULT`: Result of the inspection (showing of active rat signs or problem conditions that can promote rats) <br>"
   ]
  },
  {
   "cell_type": "markdown",
   "id": "5f934b54",
   "metadata": {},
   "source": [
    "## Model Two: Random Forests\n",
    "### *By Rohan Salwekar*"
   ]
  },
  {
   "cell_type": "code",
   "execution_count": null,
   "id": "7b3fe132",
   "metadata": {},
   "outputs": [],
   "source": [
    "from sklearn.model_selection import train_test_split, RandomizedSearchCV\n",
    "from sklearn.ensemble import RandomForestClassifier\n",
    "from sklearn.preprocessing import OneHotEncoder\n",
    "from sklearn.compose import ColumnTransformer\n",
    "from sklearn.pipeline import Pipeline\n",
    "from sklearn.metrics import classification_report, roc_auc_score, roc_curve"
   ]
  },
  {
   "cell_type": "code",
   "execution_count": 3,
   "id": "c8b549c7",
   "metadata": {},
   "outputs": [
    {
     "data": {
      "text/html": [
       "<div><style>\n",
       ".dataframe > thead > tr,\n",
       ".dataframe > tbody > tr {\n",
       "  text-align: right;\n",
       "  white-space: pre-wrap;\n",
       "}\n",
       "</style>\n",
       "<small>shape: (5, 3)</small><table border=\"1\" class=\"dataframe\"><thead><tr><th>BOROUGH</th><th>INSPECTION_DATE</th><th>RESULT</th></tr><tr><td>str</td><td>str</td><td>str</td></tr></thead><tbody><tr><td>&quot;Bronx&quot;</td><td>&quot;08/30/2010 03:23:11 PM&quot;</td><td>&quot;Passed&quot;</td></tr><tr><td>&quot;Manhattan&quot;</td><td>&quot;08/18/2011 12:05:54 PM&quot;</td><td>&quot;Passed&quot;</td></tr><tr><td>&quot;Brooklyn&quot;</td><td>&quot;10/10/2018 12:57:02 PM&quot;</td><td>&quot;Passed&quot;</td></tr><tr><td>&quot;Manhattan&quot;</td><td>&quot;02/07/2019 12:48:34 PM&quot;</td><td>&quot;Passed&quot;</td></tr><tr><td>&quot;Bronx&quot;</td><td>&quot;10/16/2017 01:02:51 PM&quot;</td><td>&quot;Rat Activity&quot;</td></tr></tbody></table></div>"
      ],
      "text/plain": [
       "shape: (5, 3)\n",
       "┌───────────┬────────────────────────┬──────────────┐\n",
       "│ BOROUGH   ┆ INSPECTION_DATE        ┆ RESULT       │\n",
       "│ ---       ┆ ---                    ┆ ---          │\n",
       "│ str       ┆ str                    ┆ str          │\n",
       "╞═══════════╪════════════════════════╪══════════════╡\n",
       "│ Bronx     ┆ 08/30/2010 03:23:11 PM ┆ Passed       │\n",
       "│ Manhattan ┆ 08/18/2011 12:05:54 PM ┆ Passed       │\n",
       "│ Brooklyn  ┆ 10/10/2018 12:57:02 PM ┆ Passed       │\n",
       "│ Manhattan ┆ 02/07/2019 12:48:34 PM ┆ Passed       │\n",
       "│ Bronx     ┆ 10/16/2017 01:02:51 PM ┆ Rat Activity │\n",
       "└───────────┴────────────────────────┴──────────────┘"
      ]
     },
     "execution_count": 3,
     "metadata": {},
     "output_type": "execute_result"
    }
   ],
   "source": [
    "df = pl.read_csv(\"Rodent_Inspection_20250410.csv\")\n",
    "\n",
    "df = df.select([\"BOROUGH\", \"INSPECTION_DATE\", \"RESULT\"])\n",
    "\n",
    "df.head()"
   ]
  },
  {
   "cell_type": "code",
   "execution_count": 4,
   "id": "0250511c",
   "metadata": {},
   "outputs": [
    {
     "name": "stderr",
     "output_type": "stream",
     "text": [
      "C:\\Users\\ernie\\AppData\\Local\\Temp\\ipykernel_27980\\437304016.py:4: UserWarning: Could not infer format, so each element will be parsed individually, falling back to `dateutil`. To ensure parsing is consistent and as-expected, please specify a format.\n",
      "  pdf[\"INSPECTION_DATE\"] = pd.to_datetime(pdf[\"INSPECTION_DATE\"], errors=\"coerce\")\n"
     ]
    }
   ],
   "source": [
    "pdf = df.to_pandas()\n",
    "\n",
    "# Parse date\n",
    "pdf[\"INSPECTION_DATE\"] = pd.to_datetime(pdf[\"INSPECTION_DATE\"], errors=\"coerce\")\n",
    "\n",
    "# Drop bad dates\n",
    "pdf = pdf[\n",
    "    (pdf[\"INSPECTION_DATE\"].dt.year >= 2010) &\n",
    "    (pdf[\"INSPECTION_DATE\"].dt.year <= 2025)\n",
    "]\n",
    "\n",
    "# Create target\n",
    "pdf[\"target\"] = (pdf[\"RESULT\"] == \"Rat Activity\").astype(int)\n",
    "\n",
    "# Create two separate datasets\n",
    "pdf_month = pdf.copy()\n",
    "pdf_year = pdf.copy()\n",
    "\n",
    "# For monthly model: extract month\n",
    "pdf_month[\"INSPECTION_MONTH\"] = pdf_month[\"INSPECTION_DATE\"].dt.month\n",
    "pdf_month = pdf_month[[\"BOROUGH\", \"INSPECTION_MONTH\", \"target\"]].dropna()\n",
    "\n",
    "# For yearly model: extract year\n",
    "pdf_year[\"INSPECTION_YEAR\"] = pdf_year[\"INSPECTION_DATE\"].dt.year\n",
    "pdf_year = pdf_year[[\"BOROUGH\", \"INSPECTION_YEAR\", \"target\"]].dropna()"
   ]
  },
  {
   "cell_type": "code",
   "execution_count": 5,
   "id": "1d210956",
   "metadata": {},
   "outputs": [
    {
     "ename": "NameError",
     "evalue": "name 'train_test_split' is not defined",
     "output_type": "error",
     "traceback": [
      "\u001b[31m---------------------------------------------------------------------------\u001b[39m",
      "\u001b[31mNameError\u001b[39m                                 Traceback (most recent call last)",
      "\u001b[36mCell\u001b[39m\u001b[36m \u001b[39m\u001b[32mIn[5]\u001b[39m\u001b[32m, line 5\u001b[39m\n\u001b[32m      2\u001b[39m X_month = pdf_month.drop(columns=\u001b[33m\"\u001b[39m\u001b[33mtarget\u001b[39m\u001b[33m\"\u001b[39m)\n\u001b[32m      3\u001b[39m y_month = pdf_month[\u001b[33m\"\u001b[39m\u001b[33mtarget\u001b[39m\u001b[33m\"\u001b[39m]\n\u001b[32m----> \u001b[39m\u001b[32m5\u001b[39m X_train_month, X_test_month, y_train_month, y_test_month = \u001b[43mtrain_test_split\u001b[49m(\n\u001b[32m      6\u001b[39m     X_month, y_month, test_size=\u001b[32m0.3\u001b[39m, random_state=\u001b[32m1\u001b[39m, stratify=y_month\n\u001b[32m      7\u001b[39m )\n\u001b[32m      9\u001b[39m \u001b[38;5;66;03m# Yearly\u001b[39;00m\n\u001b[32m     10\u001b[39m X_year = pdf_year.drop(columns=\u001b[33m\"\u001b[39m\u001b[33mtarget\u001b[39m\u001b[33m\"\u001b[39m)\n",
      "\u001b[31mNameError\u001b[39m: name 'train_test_split' is not defined"
     ]
    }
   ],
   "source": [
    "# Monthly\n",
    "X_month = pdf_month.drop(columns=\"target\")\n",
    "y_month = pdf_month[\"target\"]\n",
    "\n",
    "X_train_month, X_test_month, y_train_month, y_test_month = train_test_split(\n",
    "    X_month, y_month, test_size=0.3, random_state=1, stratify=y_month\n",
    ")\n",
    "\n",
    "# Yearly\n",
    "X_year = pdf_year.drop(columns=\"target\")\n",
    "y_year = pdf_year[\"target\"]\n",
    "\n",
    "X_train_year, X_test_year, y_train_year, y_test_year = train_test_split(\n",
    "    X_year, y_year, test_size=0.3, random_state=1, stratify=y_year\n",
    ")"
   ]
  },
  {
   "cell_type": "code",
   "execution_count": null,
   "id": "351313a1",
   "metadata": {},
   "outputs": [],
   "source": [
    "# Preprocessing for monthly model\n",
    "preprocessor_month = ColumnTransformer([\n",
    "    (\"cat\", OneHotEncoder(handle_unknown=\"ignore\", sparse_output=False), [\"BOROUGH\", \"INSPECTION_MONTH\"])\n",
    "])\n",
    "\n",
    "# Preprocessing for yearly model\n",
    "preprocessor_year = ColumnTransformer([\n",
    "    (\"cat\", OneHotEncoder(handle_unknown=\"ignore\", sparse_output=False), [\"BOROUGH\", \"INSPECTION_YEAR\"])\n",
    "])"
   ]
  },
  {
   "cell_type": "markdown",
   "id": "3027f4e7",
   "metadata": {},
   "source": [
    "For simplicity, the following cells are commented out because the model took extensive time to train due hyperparameter training. However, the code is made available in case you would like to leverage it yourself"
   ]
  },
  {
   "cell_type": "markdown",
   "id": "a70b6947",
   "metadata": {},
   "source": []
  }
 ],
 "metadata": {
  "kernelspec": {
   "display_name": ".venv",
   "language": "python",
   "name": "python3"
  },
  "language_info": {
   "codemirror_mode": {
    "name": "ipython",
    "version": 3
   },
   "file_extension": ".py",
   "mimetype": "text/x-python",
   "name": "python",
   "nbconvert_exporter": "python",
   "pygments_lexer": "ipython3",
   "version": "3.12.0"
  }
 },
 "nbformat": 4,
 "nbformat_minor": 5
}

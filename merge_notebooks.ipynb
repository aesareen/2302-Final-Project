{
 "cells": [
  {
   "cell_type": "markdown",
   "id": "81723b13",
   "metadata": {},
   "source": [
    "Quick Little Notebook to merge notebooks together :)"
   ]
  },
  {
   "cell_type": "code",
   "execution_count": 1,
   "id": "6fc72ff3",
   "metadata": {},
   "outputs": [],
   "source": [
    "import nbformat"
   ]
  },
  {
   "cell_type": "code",
   "execution_count": 2,
   "id": "23af845e",
   "metadata": {},
   "outputs": [
    {
     "name": "stderr",
     "output_type": "stream",
     "text": [
      "c:\\Users\\ernie\\randSchool\\2024-2025\\DTSC 2301+2302\\2302-Final-Project\\.venv\\Lib\\site-packages\\nbformat\\__init__.py:132: MissingIDFieldWarning: Cell is missing an id field, this will become a hard error in future nbformat versions. You may want to use `normalize()` on your notebooks before validations (available since nbformat 5.1.4). Previous versions of nbformat are fixing this issue transparently, and will stop doing so in the future.\n",
      "  validate(nb)\n"
     ]
    }
   ],
   "source": [
    "# Load the notebooks\n",
    "nb1 = nbformat.read('visualizations.ipynb', as_version=4)\n",
    "nb2 = nbformat.read('random_forest.ipynb', as_version=4)\n",
    "\n",
    "# Combine the cells\n",
    "combined = nbformat.v4.new_notebook()\n",
    "combined.cells = nb1.cells + nb2.cells\n",
    "\n",
    "# Save the combined notebook\n",
    "nbformat.write(combined, 'finalized_report.ipynb')"
   ]
  },
  {
   "cell_type": "code",
   "execution_count": null,
   "id": "d0f62c6c",
   "metadata": {},
   "outputs": [],
   "source": []
  }
 ],
 "metadata": {
  "kernelspec": {
   "display_name": ".venv",
   "language": "python",
   "name": "python3"
  },
  "language_info": {
   "codemirror_mode": {
    "name": "ipython",
    "version": 3
   },
   "file_extension": ".py",
   "mimetype": "text/x-python",
   "name": "python",
   "nbconvert_exporter": "python",
   "pygments_lexer": "ipython3",
   "version": "3.12.0"
  }
 },
 "nbformat": 4,
 "nbformat_minor": 5
}

{
 "cells": [
  {
   "cell_type": "code",
   "execution_count": 1,
   "id": "6250001f",
   "metadata": {},
   "outputs": [],
   "source": [
    "import pandas as pd\n",
    "import polars as pl\n",
    "import plotly.express as px\n",
    "import numpy as np\n",
    "import plotly.graph_objects as go"
   ]
  },
  {
   "cell_type": "code",
   "execution_count": 2,
   "id": "540e38a8",
   "metadata": {},
   "outputs": [],
   "source": [
    "df: pl.DataFrame = pl.read_csv(\n",
    "    \"Rodent_Inspection_20250410.csv\",\n",
    "    schema_overrides = {\"APPROVED_DATE\": pl.Utf8, \"INSPECTION_DATE\": pl.Utf8},\n",
    ")"
   ]
  },
  {
   "cell_type": "code",
   "execution_count": 3,
   "id": "0c1df820",
   "metadata": {},
   "outputs": [
    {
     "data": {
      "text/html": [
       "<div><style>\n",
       ".dataframe > thead > tr,\n",
       ".dataframe > tbody > tr {\n",
       "  text-align: right;\n",
       "  white-space: pre-wrap;\n",
       "}\n",
       "</style>\n",
       "<small>shape: (2_750_046, 25)</small><table border=\"1\" class=\"dataframe\"><thead><tr><th>Inspection_Type</th><th>Job_Ticket_Or_Work_Order_Id</th><th>Job_Id</th><th>Job_Progress</th><th>Bbl</th><th>Boro_Code</th><th>Block</th><th>Lot</th><th>House_Number</th><th>Street_Name</th><th>Zip_Code</th><th>X_Coord</th><th>Y_Coord</th><th>Latitude</th><th>Longitude</th><th>Borough</th><th>Inspection_Date</th><th>Result</th><th>Approved_Date</th><th>Location</th><th>Community Board</th><th>Council District</th><th>Census Tract</th><th>Bin</th><th>Nta</th></tr><tr><td>str</td><td>i64</td><td>str</td><td>i64</td><td>i64</td><td>i64</td><td>i64</td><td>i64</td><td>str</td><td>str</td><td>i64</td><td>i64</td><td>i64</td><td>f64</td><td>f64</td><td>str</td><td>str</td><td>str</td><td>str</td><td>str</td><td>i64</td><td>i64</td><td>i64</td><td>i64</td><td>str</td></tr></thead><tbody><tr><td>&quot;Initial&quot;</td><td>11670593</td><td>&quot;PC6530234&quot;</td><td>1</td><td>2032890025</td><td>2</td><td>3289</td><td>25</td><td>&quot;326&quot;</td><td>&quot;EAST 198 STREET&quot;</td><td>10458</td><td>1015316</td><td>255377</td><td>40.867727</td><td>-73.887461</td><td>&quot;Bronx&quot;</td><td>&quot;08/30/2010 03:23:11 PM&quot;</td><td>&quot;Passed&quot;</td><td>&quot;09/03/2010 10:43:36 AM&quot;</td><td>&quot;(40.867726534028, -73.88746110…</td><td>7</td><td>15</td><td>40502</td><td>2016678</td><td>&quot;Bedford Park&quot;</td></tr><tr><td>&quot;Initial&quot;</td><td>11758853</td><td>&quot;PC6101553&quot;</td><td>1</td><td>1013290121</td><td>1</td><td>1329</td><td>121</td><td>&quot;245&quot;</td><td>&quot;EAST 55 STREET&quot;</td><td>10022</td><td>993525</td><td>215573</td><td>40.758511</td><td>-73.967434</td><td>&quot;Manhattan&quot;</td><td>&quot;08/18/2011 12:05:54 PM&quot;</td><td>&quot;Passed&quot;</td><td>&quot;08/19/2011 12:02:56 PM&quot;</td><td>&quot;(40.758511490599, -73.96743383…</td><td>6</td><td>4</td><td>10801</td><td>1038588</td><td>&quot;East Midtown-Turtle Bay&quot;</td></tr><tr><td>&quot;Initial&quot;</td><td>12504178</td><td>&quot;PC7270050&quot;</td><td>1</td><td>null</td><td>3</td><td>3141</td><td>20</td><td>null</td><td>&quot;MONTIETH STREET&quot;</td><td>11206</td><td>1002160</td><td>194840</td><td>40.701451</td><td>-73.935407</td><td>&quot;Brooklyn&quot;</td><td>&quot;10/10/2018 12:57:02 PM&quot;</td><td>&quot;Passed&quot;</td><td>&quot;10/11/2018 08:59:21 AM&quot;</td><td>&quot;(40.7014506131434, -73.9354065…</td><td>null</td><td>null</td><td>null</td><td>null</td><td>null</td></tr><tr><td>&quot;Initial&quot;</td><td>12560587</td><td>&quot;PC6481130&quot;</td><td>1</td><td>1021110015</td><td>1</td><td>2111</td><td>15</td><td>&quot;470&quot;</td><td>&quot;WEST 165 STREET&quot;</td><td>10032</td><td>1001506</td><td>244337</td><td>40.837644</td><td>-73.937771</td><td>&quot;Manhattan&quot;</td><td>&quot;02/07/2019 12:48:34 PM&quot;</td><td>&quot;Passed&quot;</td><td>&quot;02/13/2019 10:28:33 AM&quot;</td><td>&quot;(40.83764407994, -73.937771402…</td><td>12</td><td>10</td><td>24301</td><td>1062635</td><td>&quot;Washington Heights (South)&quot;</td></tr><tr><td>&quot;Initial&quot;</td><td>12345229</td><td>&quot;PC6794074&quot;</td><td>1</td><td>2031490090</td><td>2</td><td>3149</td><td>90</td><td>&quot;2110&quot;</td><td>&quot;RYER AVENUE&quot;</td><td>10457</td><td>1011881</td><td>250411</td><td>40.853455</td><td>-73.900632</td><td>&quot;Bronx&quot;</td><td>&quot;10/16/2017 01:02:51 PM&quot;</td><td>&quot;Rat Activity&quot;</td><td>&quot;10/27/2017 02:31:42 PM&quot;</td><td>&quot;(40.853455091584, -73.90063242…</td><td>5</td><td>15</td><td>381</td><td>2013535</td><td>&quot;Mount Hope&quot;</td></tr><tr><td>&hellip;</td><td>&hellip;</td><td>&hellip;</td><td>&hellip;</td><td>&hellip;</td><td>&hellip;</td><td>&hellip;</td><td>&hellip;</td><td>&hellip;</td><td>&hellip;</td><td>&hellip;</td><td>&hellip;</td><td>&hellip;</td><td>&hellip;</td><td>&hellip;</td><td>&hellip;</td><td>&hellip;</td><td>&hellip;</td><td>&hellip;</td><td>&hellip;</td><td>&hellip;</td><td>&hellip;</td><td>&hellip;</td><td>&hellip;</td><td>&hellip;</td></tr><tr><td>&quot;Initial&quot;</td><td>14017042</td><td>&quot;PC8475402&quot;</td><td>1</td><td>2032120051</td><td>2</td><td>3212</td><td>51</td><td>&quot;2344&quot;</td><td>&quot;UNIVERSITY AVENUE&quot;</td><td>10468</td><td>null</td><td>null</td><td>40.861466</td><td>-73.906076</td><td>&quot;Bronx&quot;</td><td>&quot;01/24/2025 12:00:16 PM&quot;</td><td>&quot;Passed&quot;</td><td>&quot;01/27/2025 02:46:37 PM&quot;</td><td>&quot;(40.861466053777, -73.90607581…</td><td>7</td><td>14</td><td>253</td><td>2014608</td><td>&quot;University Heights (North)-For…</td></tr><tr><td>&quot;Initial&quot;</td><td>14016732</td><td>&quot;PC8475364&quot;</td><td>1</td><td>2031980055</td><td>2</td><td>3198</td><td>55</td><td>&quot;2344&quot;</td><td>&quot;DAVIDSON AVENUE&quot;</td><td>10468</td><td>null</td><td>null</td><td>40.859881</td><td>-73.904129</td><td>&quot;Bronx&quot;</td><td>&quot;01/23/2025 11:46:40 AM&quot;</td><td>&quot;Passed&quot;</td><td>&quot;01/27/2025 04:08:34 PM&quot;</td><td>&quot;(40.859880736746, -73.90412949…</td><td>7</td><td>14</td><td>239</td><td>2014265</td><td>&quot;Fordham Heights&quot;</td></tr><tr><td>&quot;Compliance&quot;</td><td>14016226</td><td>&quot;PC8457329&quot;</td><td>2</td><td>1019480029</td><td>1</td><td>1948</td><td>29</td><td>&quot;301&quot;</td><td>&quot;WEST 121 STREET&quot;</td><td>10027</td><td>null</td><td>null</td><td>40.807704</td><td>-73.953253</td><td>&quot;Manhattan&quot;</td><td>&quot;01/23/2025 08:57:18 AM&quot;</td><td>&quot;Passed&quot;</td><td>&quot;01/27/2025 02:29:15 PM&quot;</td><td>&quot;(40.807703542233, -73.95325299…</td><td>10</td><td>9</td><td>257</td><td>1059196</td><td>&quot;Harlem (South)&quot;</td></tr><tr><td>&quot;Compliance&quot;</td><td>14016910</td><td>&quot;PC8464467&quot;</td><td>2</td><td>3013090006</td><td>3</td><td>1309</td><td>6</td><td>&quot;975&quot;</td><td>&quot;NOSTRAND AVENUE&quot;</td><td>11225</td><td>997849</td><td>181481</td><td>40.664783</td><td>-73.950982</td><td>&quot;Brooklyn&quot;</td><td>&quot;01/24/2025 12:45:22 PM&quot;</td><td>&quot;Rat Activity&quot;</td><td>&quot;01/27/2025 11:28:21 AM&quot;</td><td>&quot;(40.664782745978, -73.95098175…</td><td>9</td><td>35</td><td>319</td><td>3000000</td><td>&quot;Crown Heights (South)&quot;</td></tr><tr><td>&quot;Initial&quot;</td><td>14016577</td><td>&quot;PC8468992&quot;</td><td>1</td><td>3032570006</td><td>3</td><td>3257</td><td>6</td><td>&quot;156&quot;</td><td>&quot;STOCKHOLM STREET&quot;</td><td>11237</td><td>null</td><td>null</td><td>40.699409</td><td>-73.922855</td><td>&quot;Brooklyn&quot;</td><td>&quot;01/23/2025 08:00:56 AM&quot;</td><td>&quot;Rat Activity&quot;</td><td>&quot;01/27/2025 09:24:46 AM&quot;</td><td>&quot;(40.699409080079, -73.92285491…</td><td>4</td><td>37</td><td>431</td><td>3348633</td><td>&quot;Bushwick (West)&quot;</td></tr></tbody></table></div>"
      ],
      "text/plain": [
       "shape: (2_750_046, 25)\n",
       "┌────────────┬────────────┬───────────┬────────────┬───┬────────────┬────────┬─────────┬───────────┐\n",
       "│ Inspection ┆ Job_Ticket ┆ Job_Id    ┆ Job_Progre ┆ … ┆ Council    ┆ Census ┆ Bin     ┆ Nta       │\n",
       "│ _Type      ┆ _Or_Work_O ┆ ---       ┆ ss         ┆   ┆ District   ┆ Tract  ┆ ---     ┆ ---       │\n",
       "│ ---        ┆ rder_Id    ┆ str       ┆ ---        ┆   ┆ ---        ┆ ---    ┆ i64     ┆ str       │\n",
       "│ str        ┆ ---        ┆           ┆ i64        ┆   ┆ i64        ┆ i64    ┆         ┆           │\n",
       "│            ┆ i64        ┆           ┆            ┆   ┆            ┆        ┆         ┆           │\n",
       "╞════════════╪════════════╪═══════════╪════════════╪═══╪════════════╪════════╪═════════╪═══════════╡\n",
       "│ Initial    ┆ 11670593   ┆ PC6530234 ┆ 1          ┆ … ┆ 15         ┆ 40502  ┆ 2016678 ┆ Bedford   │\n",
       "│            ┆            ┆           ┆            ┆   ┆            ┆        ┆         ┆ Park      │\n",
       "│ Initial    ┆ 11758853   ┆ PC6101553 ┆ 1          ┆ … ┆ 4          ┆ 10801  ┆ 1038588 ┆ East Midt │\n",
       "│            ┆            ┆           ┆            ┆   ┆            ┆        ┆         ┆ own-Turtl │\n",
       "│            ┆            ┆           ┆            ┆   ┆            ┆        ┆         ┆ e Bay     │\n",
       "│ Initial    ┆ 12504178   ┆ PC7270050 ┆ 1          ┆ … ┆ null       ┆ null   ┆ null    ┆ null      │\n",
       "│ Initial    ┆ 12560587   ┆ PC6481130 ┆ 1          ┆ … ┆ 10         ┆ 24301  ┆ 1062635 ┆ Washingto │\n",
       "│            ┆            ┆           ┆            ┆   ┆            ┆        ┆         ┆ n Heights │\n",
       "│            ┆            ┆           ┆            ┆   ┆            ┆        ┆         ┆ (South)   │\n",
       "│ Initial    ┆ 12345229   ┆ PC6794074 ┆ 1          ┆ … ┆ 15         ┆ 381    ┆ 2013535 ┆ Mount     │\n",
       "│            ┆            ┆           ┆            ┆   ┆            ┆        ┆         ┆ Hope      │\n",
       "│ …          ┆ …          ┆ …         ┆ …          ┆ … ┆ …          ┆ …      ┆ …       ┆ …         │\n",
       "│ Initial    ┆ 14017042   ┆ PC8475402 ┆ 1          ┆ … ┆ 14         ┆ 253    ┆ 2014608 ┆ Universit │\n",
       "│            ┆            ┆           ┆            ┆   ┆            ┆        ┆         ┆ y Heights │\n",
       "│            ┆            ┆           ┆            ┆   ┆            ┆        ┆         ┆ (North)-F │\n",
       "│            ┆            ┆           ┆            ┆   ┆            ┆        ┆         ┆ or…       │\n",
       "│ Initial    ┆ 14016732   ┆ PC8475364 ┆ 1          ┆ … ┆ 14         ┆ 239    ┆ 2014265 ┆ Fordham   │\n",
       "│            ┆            ┆           ┆            ┆   ┆            ┆        ┆         ┆ Heights   │\n",
       "│ Compliance ┆ 14016226   ┆ PC8457329 ┆ 2          ┆ … ┆ 9          ┆ 257    ┆ 1059196 ┆ Harlem    │\n",
       "│            ┆            ┆           ┆            ┆   ┆            ┆        ┆         ┆ (South)   │\n",
       "│ Compliance ┆ 14016910   ┆ PC8464467 ┆ 2          ┆ … ┆ 35         ┆ 319    ┆ 3000000 ┆ Crown     │\n",
       "│            ┆            ┆           ┆            ┆   ┆            ┆        ┆         ┆ Heights   │\n",
       "│            ┆            ┆           ┆            ┆   ┆            ┆        ┆         ┆ (South)   │\n",
       "│ Initial    ┆ 14016577   ┆ PC8468992 ┆ 1          ┆ … ┆ 37         ┆ 431    ┆ 3348633 ┆ Bushwick  │\n",
       "│            ┆            ┆           ┆            ┆   ┆            ┆        ┆         ┆ (West)    │\n",
       "└────────────┴────────────┴───────────┴────────────┴───┴────────────┴────────┴─────────┴───────────┘"
      ]
     },
     "execution_count": 3,
     "metadata": {},
     "output_type": "execute_result"
    }
   ],
   "source": [
    "# Reformat the DataFrame columns so that they aren't all capitalized by rather than be upper-case\n",
    "df.columns = list(map(lambda x: x.title(), df.columns))\n",
    "df"
   ]
  },
  {
   "cell_type": "code",
   "execution_count": 4,
   "id": "2a9fb4a2",
   "metadata": {},
   "outputs": [
    {
     "data": {
      "text/html": [
       "<div><style>\n",
       ".dataframe > thead > tr,\n",
       ".dataframe > tbody > tr {\n",
       "  text-align: right;\n",
       "  white-space: pre-wrap;\n",
       "}\n",
       "</style>\n",
       "<small>shape: (2_750_046, 25)</small><table border=\"1\" class=\"dataframe\"><thead><tr><th>Inspection_Type</th><th>Job_Ticket_Or_Work_Order_Id</th><th>Job_Id</th><th>Job_Progress</th><th>Bbl</th><th>Boro_Code</th><th>Block</th><th>Lot</th><th>House_Number</th><th>Street_Name</th><th>Zip_Code</th><th>X_Coord</th><th>Y_Coord</th><th>Latitude</th><th>Longitude</th><th>Borough</th><th>Inspection_Date</th><th>Result</th><th>Approved_Date</th><th>Location</th><th>Community Board</th><th>Council District</th><th>Census Tract</th><th>Bin</th><th>Nta</th></tr><tr><td>str</td><td>i64</td><td>str</td><td>i64</td><td>i64</td><td>i64</td><td>i64</td><td>i64</td><td>str</td><td>str</td><td>i64</td><td>i64</td><td>i64</td><td>f64</td><td>f64</td><td>str</td><td>datetime[μs]</td><td>str</td><td>datetime[μs]</td><td>str</td><td>i64</td><td>i64</td><td>i64</td><td>i64</td><td>str</td></tr></thead><tbody><tr><td>&quot;Initial&quot;</td><td>11670593</td><td>&quot;PC6530234&quot;</td><td>1</td><td>2032890025</td><td>2</td><td>3289</td><td>25</td><td>&quot;326&quot;</td><td>&quot;EAST 198 STREET&quot;</td><td>10458</td><td>1015316</td><td>255377</td><td>40.867727</td><td>-73.887461</td><td>&quot;Bronx&quot;</td><td>2010-08-30 15:23:11</td><td>&quot;Passed&quot;</td><td>2010-09-03 10:43:36</td><td>&quot;(40.867726534028, -73.88746110…</td><td>7</td><td>15</td><td>40502</td><td>2016678</td><td>&quot;Bedford Park&quot;</td></tr><tr><td>&quot;Initial&quot;</td><td>11758853</td><td>&quot;PC6101553&quot;</td><td>1</td><td>1013290121</td><td>1</td><td>1329</td><td>121</td><td>&quot;245&quot;</td><td>&quot;EAST 55 STREET&quot;</td><td>10022</td><td>993525</td><td>215573</td><td>40.758511</td><td>-73.967434</td><td>&quot;Manhattan&quot;</td><td>2011-08-18 12:05:54</td><td>&quot;Passed&quot;</td><td>2011-08-19 12:02:56</td><td>&quot;(40.758511490599, -73.96743383…</td><td>6</td><td>4</td><td>10801</td><td>1038588</td><td>&quot;East Midtown-Turtle Bay&quot;</td></tr><tr><td>&quot;Initial&quot;</td><td>12504178</td><td>&quot;PC7270050&quot;</td><td>1</td><td>null</td><td>3</td><td>3141</td><td>20</td><td>null</td><td>&quot;MONTIETH STREET&quot;</td><td>11206</td><td>1002160</td><td>194840</td><td>40.701451</td><td>-73.935407</td><td>&quot;Brooklyn&quot;</td><td>2018-10-10 12:57:02</td><td>&quot;Passed&quot;</td><td>2018-10-11 08:59:21</td><td>&quot;(40.7014506131434, -73.9354065…</td><td>null</td><td>null</td><td>null</td><td>null</td><td>null</td></tr><tr><td>&quot;Initial&quot;</td><td>12560587</td><td>&quot;PC6481130&quot;</td><td>1</td><td>1021110015</td><td>1</td><td>2111</td><td>15</td><td>&quot;470&quot;</td><td>&quot;WEST 165 STREET&quot;</td><td>10032</td><td>1001506</td><td>244337</td><td>40.837644</td><td>-73.937771</td><td>&quot;Manhattan&quot;</td><td>2019-02-07 12:48:34</td><td>&quot;Passed&quot;</td><td>2019-02-13 10:28:33</td><td>&quot;(40.83764407994, -73.937771402…</td><td>12</td><td>10</td><td>24301</td><td>1062635</td><td>&quot;Washington Heights (South)&quot;</td></tr><tr><td>&quot;Initial&quot;</td><td>12345229</td><td>&quot;PC6794074&quot;</td><td>1</td><td>2031490090</td><td>2</td><td>3149</td><td>90</td><td>&quot;2110&quot;</td><td>&quot;RYER AVENUE&quot;</td><td>10457</td><td>1011881</td><td>250411</td><td>40.853455</td><td>-73.900632</td><td>&quot;Bronx&quot;</td><td>2017-10-16 13:02:51</td><td>&quot;Rat Activity&quot;</td><td>2017-10-27 14:31:42</td><td>&quot;(40.853455091584, -73.90063242…</td><td>5</td><td>15</td><td>381</td><td>2013535</td><td>&quot;Mount Hope&quot;</td></tr><tr><td>&hellip;</td><td>&hellip;</td><td>&hellip;</td><td>&hellip;</td><td>&hellip;</td><td>&hellip;</td><td>&hellip;</td><td>&hellip;</td><td>&hellip;</td><td>&hellip;</td><td>&hellip;</td><td>&hellip;</td><td>&hellip;</td><td>&hellip;</td><td>&hellip;</td><td>&hellip;</td><td>&hellip;</td><td>&hellip;</td><td>&hellip;</td><td>&hellip;</td><td>&hellip;</td><td>&hellip;</td><td>&hellip;</td><td>&hellip;</td><td>&hellip;</td></tr><tr><td>&quot;Initial&quot;</td><td>14017042</td><td>&quot;PC8475402&quot;</td><td>1</td><td>2032120051</td><td>2</td><td>3212</td><td>51</td><td>&quot;2344&quot;</td><td>&quot;UNIVERSITY AVENUE&quot;</td><td>10468</td><td>null</td><td>null</td><td>40.861466</td><td>-73.906076</td><td>&quot;Bronx&quot;</td><td>2025-01-24 12:00:16</td><td>&quot;Passed&quot;</td><td>2025-01-27 14:46:37</td><td>&quot;(40.861466053777, -73.90607581…</td><td>7</td><td>14</td><td>253</td><td>2014608</td><td>&quot;University Heights (North)-For…</td></tr><tr><td>&quot;Initial&quot;</td><td>14016732</td><td>&quot;PC8475364&quot;</td><td>1</td><td>2031980055</td><td>2</td><td>3198</td><td>55</td><td>&quot;2344&quot;</td><td>&quot;DAVIDSON AVENUE&quot;</td><td>10468</td><td>null</td><td>null</td><td>40.859881</td><td>-73.904129</td><td>&quot;Bronx&quot;</td><td>2025-01-23 11:46:40</td><td>&quot;Passed&quot;</td><td>2025-01-27 16:08:34</td><td>&quot;(40.859880736746, -73.90412949…</td><td>7</td><td>14</td><td>239</td><td>2014265</td><td>&quot;Fordham Heights&quot;</td></tr><tr><td>&quot;Compliance&quot;</td><td>14016226</td><td>&quot;PC8457329&quot;</td><td>2</td><td>1019480029</td><td>1</td><td>1948</td><td>29</td><td>&quot;301&quot;</td><td>&quot;WEST 121 STREET&quot;</td><td>10027</td><td>null</td><td>null</td><td>40.807704</td><td>-73.953253</td><td>&quot;Manhattan&quot;</td><td>2025-01-23 08:57:18</td><td>&quot;Passed&quot;</td><td>2025-01-27 14:29:15</td><td>&quot;(40.807703542233, -73.95325299…</td><td>10</td><td>9</td><td>257</td><td>1059196</td><td>&quot;Harlem (South)&quot;</td></tr><tr><td>&quot;Compliance&quot;</td><td>14016910</td><td>&quot;PC8464467&quot;</td><td>2</td><td>3013090006</td><td>3</td><td>1309</td><td>6</td><td>&quot;975&quot;</td><td>&quot;NOSTRAND AVENUE&quot;</td><td>11225</td><td>997849</td><td>181481</td><td>40.664783</td><td>-73.950982</td><td>&quot;Brooklyn&quot;</td><td>2025-01-24 12:45:22</td><td>&quot;Rat Activity&quot;</td><td>2025-01-27 11:28:21</td><td>&quot;(40.664782745978, -73.95098175…</td><td>9</td><td>35</td><td>319</td><td>3000000</td><td>&quot;Crown Heights (South)&quot;</td></tr><tr><td>&quot;Initial&quot;</td><td>14016577</td><td>&quot;PC8468992&quot;</td><td>1</td><td>3032570006</td><td>3</td><td>3257</td><td>6</td><td>&quot;156&quot;</td><td>&quot;STOCKHOLM STREET&quot;</td><td>11237</td><td>null</td><td>null</td><td>40.699409</td><td>-73.922855</td><td>&quot;Brooklyn&quot;</td><td>2025-01-23 08:00:56</td><td>&quot;Rat Activity&quot;</td><td>2025-01-27 09:24:46</td><td>&quot;(40.699409080079, -73.92285491…</td><td>4</td><td>37</td><td>431</td><td>3348633</td><td>&quot;Bushwick (West)&quot;</td></tr></tbody></table></div>"
      ],
      "text/plain": [
       "shape: (2_750_046, 25)\n",
       "┌────────────┬────────────┬───────────┬────────────┬───┬────────────┬────────┬─────────┬───────────┐\n",
       "│ Inspection ┆ Job_Ticket ┆ Job_Id    ┆ Job_Progre ┆ … ┆ Council    ┆ Census ┆ Bin     ┆ Nta       │\n",
       "│ _Type      ┆ _Or_Work_O ┆ ---       ┆ ss         ┆   ┆ District   ┆ Tract  ┆ ---     ┆ ---       │\n",
       "│ ---        ┆ rder_Id    ┆ str       ┆ ---        ┆   ┆ ---        ┆ ---    ┆ i64     ┆ str       │\n",
       "│ str        ┆ ---        ┆           ┆ i64        ┆   ┆ i64        ┆ i64    ┆         ┆           │\n",
       "│            ┆ i64        ┆           ┆            ┆   ┆            ┆        ┆         ┆           │\n",
       "╞════════════╪════════════╪═══════════╪════════════╪═══╪════════════╪════════╪═════════╪═══════════╡\n",
       "│ Initial    ┆ 11670593   ┆ PC6530234 ┆ 1          ┆ … ┆ 15         ┆ 40502  ┆ 2016678 ┆ Bedford   │\n",
       "│            ┆            ┆           ┆            ┆   ┆            ┆        ┆         ┆ Park      │\n",
       "│ Initial    ┆ 11758853   ┆ PC6101553 ┆ 1          ┆ … ┆ 4          ┆ 10801  ┆ 1038588 ┆ East Midt │\n",
       "│            ┆            ┆           ┆            ┆   ┆            ┆        ┆         ┆ own-Turtl │\n",
       "│            ┆            ┆           ┆            ┆   ┆            ┆        ┆         ┆ e Bay     │\n",
       "│ Initial    ┆ 12504178   ┆ PC7270050 ┆ 1          ┆ … ┆ null       ┆ null   ┆ null    ┆ null      │\n",
       "│ Initial    ┆ 12560587   ┆ PC6481130 ┆ 1          ┆ … ┆ 10         ┆ 24301  ┆ 1062635 ┆ Washingto │\n",
       "│            ┆            ┆           ┆            ┆   ┆            ┆        ┆         ┆ n Heights │\n",
       "│            ┆            ┆           ┆            ┆   ┆            ┆        ┆         ┆ (South)   │\n",
       "│ Initial    ┆ 12345229   ┆ PC6794074 ┆ 1          ┆ … ┆ 15         ┆ 381    ┆ 2013535 ┆ Mount     │\n",
       "│            ┆            ┆           ┆            ┆   ┆            ┆        ┆         ┆ Hope      │\n",
       "│ …          ┆ …          ┆ …         ┆ …          ┆ … ┆ …          ┆ …      ┆ …       ┆ …         │\n",
       "│ Initial    ┆ 14017042   ┆ PC8475402 ┆ 1          ┆ … ┆ 14         ┆ 253    ┆ 2014608 ┆ Universit │\n",
       "│            ┆            ┆           ┆            ┆   ┆            ┆        ┆         ┆ y Heights │\n",
       "│            ┆            ┆           ┆            ┆   ┆            ┆        ┆         ┆ (North)-F │\n",
       "│            ┆            ┆           ┆            ┆   ┆            ┆        ┆         ┆ or…       │\n",
       "│ Initial    ┆ 14016732   ┆ PC8475364 ┆ 1          ┆ … ┆ 14         ┆ 239    ┆ 2014265 ┆ Fordham   │\n",
       "│            ┆            ┆           ┆            ┆   ┆            ┆        ┆         ┆ Heights   │\n",
       "│ Compliance ┆ 14016226   ┆ PC8457329 ┆ 2          ┆ … ┆ 9          ┆ 257    ┆ 1059196 ┆ Harlem    │\n",
       "│            ┆            ┆           ┆            ┆   ┆            ┆        ┆         ┆ (South)   │\n",
       "│ Compliance ┆ 14016910   ┆ PC8464467 ┆ 2          ┆ … ┆ 35         ┆ 319    ┆ 3000000 ┆ Crown     │\n",
       "│            ┆            ┆           ┆            ┆   ┆            ┆        ┆         ┆ Heights   │\n",
       "│            ┆            ┆           ┆            ┆   ┆            ┆        ┆         ┆ (South)   │\n",
       "│ Initial    ┆ 14016577   ┆ PC8468992 ┆ 1          ┆ … ┆ 37         ┆ 431    ┆ 3348633 ┆ Bushwick  │\n",
       "│            ┆            ┆           ┆            ┆   ┆            ┆        ┆         ┆ (West)    │\n",
       "└────────────┴────────────┴───────────┴────────────┴───┴────────────┴────────┴─────────┴───────────┘"
      ]
     },
     "execution_count": 4,
     "metadata": {},
     "output_type": "execute_result"
    }
   ],
   "source": [
    "# Modify the data columns to actually make them dates\n",
    "df = df.with_columns([\n",
    "    pl.col(col).str.strptime(\n",
    "        pl.Datetime,\n",
    "        format = '%m/%d/%Y %I:%M:%S %p',\n",
    "        strict = False\n",
    "    ) for col in ('Inspection_Date', 'Approved_Date')]\n",
    ")\n",
    "\n",
    "df"
   ]
  },
  {
   "cell_type": "code",
   "execution_count": 5,
   "id": "98f1c77c",
   "metadata": {},
   "outputs": [
    {
     "data": {
      "text/html": [
       "<div><style>\n",
       ".dataframe > thead > tr,\n",
       ".dataframe > tbody > tr {\n",
       "  text-align: right;\n",
       "  white-space: pre-wrap;\n",
       "}\n",
       "</style>\n",
       "<small>shape: (1, 25)</small><table border=\"1\" class=\"dataframe\"><thead><tr><th>Inspection_Type</th><th>Job_Ticket_Or_Work_Order_Id</th><th>Job_Id</th><th>Job_Progress</th><th>Bbl</th><th>Boro_Code</th><th>Block</th><th>Lot</th><th>House_Number</th><th>Street_Name</th><th>Zip_Code</th><th>X_Coord</th><th>Y_Coord</th><th>Latitude</th><th>Longitude</th><th>Borough</th><th>Inspection_Date</th><th>Result</th><th>Approved_Date</th><th>Location</th><th>Community Board</th><th>Council District</th><th>Census Tract</th><th>Bin</th><th>Nta</th></tr><tr><td>u32</td><td>u32</td><td>u32</td><td>u32</td><td>u32</td><td>u32</td><td>u32</td><td>u32</td><td>u32</td><td>u32</td><td>u32</td><td>u32</td><td>u32</td><td>u32</td><td>u32</td><td>u32</td><td>u32</td><td>u32</td><td>u32</td><td>u32</td><td>u32</td><td>u32</td><td>u32</td><td>u32</td><td>u32</td></tr></thead><tbody><tr><td>0</td><td>0</td><td>0</td><td>0</td><td>91317</td><td>0</td><td>0</td><td>0</td><td>39045</td><td>6984</td><td>16422</td><td>745403</td><td>745403</td><td>18853</td><td>18853</td><td>266</td><td>17</td><td>37</td><td>6912</td><td>20336</td><td>73235</td><td>73235</td><td>73235</td><td>91317</td><td>73235</td></tr></tbody></table></div>"
      ],
      "text/plain": [
       "shape: (1, 25)\n",
       "┌────────────────┬────────────────┬────────┬───────────────┬───┬──────────┬────────┬───────┬───────┐\n",
       "│ Inspection_Typ ┆ Job_Ticket_Or_ ┆ Job_Id ┆ Job_Progress  ┆ … ┆ Council  ┆ Census ┆ Bin   ┆ Nta   │\n",
       "│ e              ┆ Work_Order_Id  ┆ ---    ┆ ---           ┆   ┆ District ┆ Tract  ┆ ---   ┆ ---   │\n",
       "│ ---            ┆ ---            ┆ u32    ┆ u32           ┆   ┆ ---      ┆ ---    ┆ u32   ┆ u32   │\n",
       "│ u32            ┆ u32            ┆        ┆               ┆   ┆ u32      ┆ u32    ┆       ┆       │\n",
       "╞════════════════╪════════════════╪════════╪═══════════════╪═══╪══════════╪════════╪═══════╪═══════╡\n",
       "│ 0              ┆ 0              ┆ 0      ┆ 0             ┆ … ┆ 73235    ┆ 73235  ┆ 91317 ┆ 73235 │\n",
       "└────────────────┴────────────────┴────────┴───────────────┴───┴──────────┴────────┴───────┴───────┘"
      ]
     },
     "execution_count": 5,
     "metadata": {},
     "output_type": "execute_result"
    }
   ],
   "source": [
    "# Investigate Nulls\n",
    "df.null_count()"
   ]
  },
  {
   "cell_type": "code",
   "execution_count": 6,
   "id": "cdc46030",
   "metadata": {},
   "outputs": [],
   "source": [
    "# Just drop the nulls\n",
    "df = df.drop_nulls('Inspection_Date')"
   ]
  },
  {
   "cell_type": "code",
   "execution_count": 7,
   "id": "51043a51",
   "metadata": {},
   "outputs": [
    {
     "data": {
      "text/html": [
       "<div><style>\n",
       ".dataframe > thead > tr,\n",
       ".dataframe > tbody > tr {\n",
       "  text-align: right;\n",
       "  white-space: pre-wrap;\n",
       "}\n",
       "</style>\n",
       "<small>shape: (5, 2)</small><table border=\"1\" class=\"dataframe\"><thead><tr><th>Borough</th><th>len</th></tr><tr><td>str</td><td>u32</td></tr></thead><tbody><tr><td>&quot;Bronx&quot;</td><td>781208</td></tr><tr><td>&quot;Queens&quot;</td><td>232667</td></tr><tr><td>&quot;Manhattan&quot;</td><td>879704</td></tr><tr><td>&quot;Brooklyn&quot;</td><td>793337</td></tr><tr><td>&quot;Staten Island&quot;</td><td>62847</td></tr></tbody></table></div>"
      ],
      "text/plain": [
       "shape: (5, 2)\n",
       "┌───────────────┬────────┐\n",
       "│ Borough       ┆ len    │\n",
       "│ ---           ┆ ---    │\n",
       "│ str           ┆ u32    │\n",
       "╞═══════════════╪════════╡\n",
       "│ Bronx         ┆ 781208 │\n",
       "│ Queens        ┆ 232667 │\n",
       "│ Manhattan     ┆ 879704 │\n",
       "│ Brooklyn      ┆ 793337 │\n",
       "│ Staten Island ┆ 62847  │\n",
       "└───────────────┴────────┘"
      ]
     },
     "execution_count": 7,
     "metadata": {},
     "output_type": "execute_result"
    }
   ],
   "source": [
    "df_grouped_by_borough: pl.DataFrame = df.group_by('Borough')\n",
    "df_grouped_by_borough_counts: pl.DataFrame = df_grouped_by_borough.len().drop_nulls()\n",
    "df_grouped_by_borough_counts"
   ]
  },
  {
   "cell_type": "code",
   "execution_count": 8,
   "id": "57d00eb3",
   "metadata": {},
   "outputs": [],
   "source": [
    "# Only keep dates that come after 2009, as before then the data is very sparse and perhaps not accurate (and also any data that somehow appears in the future)\n",
    "df = df.filter(\n",
    "    pl.col('Inspection_Date').is_between(pl.datetime(2010, 1, 1), pl.datetime(2025, 4, 10))\n",
    ")"
   ]
  },
  {
   "cell_type": "code",
   "execution_count": 9,
   "id": "f6de0242",
   "metadata": {},
   "outputs": [],
   "source": [
    "NUM_OF_BINS = df_grouped_by_borough_counts.shape[0]\n",
    "\n",
    "RAINBOW_COLORS = [\"#ffadad\",\"#ffd6a5\",\"#fdffb6\",\"#caffbf\",\"#9bf6ff\",\"#a0c4ff\",\"#bdb2ff\",\"#ffc6ff\"]\n",
    "\n",
    "RAINBOW_COLOR_SEQ = [RAINBOW_COLORS[i % len(RAINBOW_COLORS)] for i in range(NUM_OF_BINS)]"
   ]
  },
  {
   "cell_type": "code",
   "execution_count": 10,
   "id": "1d8aa92a",
   "metadata": {},
   "outputs": [
    {
     "data": {
      "application/vnd.plotly.v1+json": {
       "config": {
        "plotlyServerURL": "https://plot.ly"
       },
       "data": [
        {
         "hovertemplate": "Borough=%{x}<br>Number of Rodent Sightings (Count)=%{y}<extra></extra>",
         "legendgroup": "",
         "marker": {
          "color": [
           "#ffadad",
           "#ffd6a5",
           "#fdffb6",
           "#caffbf",
           "#9bf6ff"
          ],
          "pattern": {
           "shape": ""
          }
         },
         "name": "",
         "orientation": "v",
         "showlegend": false,
         "textposition": "auto",
         "texttemplate": "%{y}",
         "type": "bar",
         "x": [
          "Bronx",
          "Queens",
          "Manhattan",
          "Brooklyn",
          "Staten Island"
         ],
         "xaxis": "x",
         "y": {
          "bdata": "mOsLANuMAwBYbA0A+RoMAH/1AAA=",
          "dtype": "u4"
         },
         "yaxis": "y"
        }
       ],
       "layout": {
        "barmode": "relative",
        "font": {
         "family": "Raleway, sans-serif"
        },
        "legend": {
         "orientation": "h",
         "tracegroupgap": 0,
         "x": 0.5,
         "xanchor": "center",
         "y": -0.3,
         "yanchor": "bottom"
        },
        "margin": {
         "t": 60
        },
        "template": {
         "data": {
          "bar": [
           {
            "error_x": {
             "color": "#f2f5fa"
            },
            "error_y": {
             "color": "#f2f5fa"
            },
            "marker": {
             "line": {
              "color": "rgb(17,17,17)",
              "width": 0.5
             },
             "pattern": {
              "fillmode": "overlay",
              "size": 10,
              "solidity": 0.2
             }
            },
            "type": "bar"
           }
          ],
          "barpolar": [
           {
            "marker": {
             "line": {
              "color": "rgb(17,17,17)",
              "width": 0.5
             },
             "pattern": {
              "fillmode": "overlay",
              "size": 10,
              "solidity": 0.2
             }
            },
            "type": "barpolar"
           }
          ],
          "carpet": [
           {
            "aaxis": {
             "endlinecolor": "#A2B1C6",
             "gridcolor": "#506784",
             "linecolor": "#506784",
             "minorgridcolor": "#506784",
             "startlinecolor": "#A2B1C6"
            },
            "baxis": {
             "endlinecolor": "#A2B1C6",
             "gridcolor": "#506784",
             "linecolor": "#506784",
             "minorgridcolor": "#506784",
             "startlinecolor": "#A2B1C6"
            },
            "type": "carpet"
           }
          ],
          "choropleth": [
           {
            "colorbar": {
             "outlinewidth": 0,
             "ticks": ""
            },
            "type": "choropleth"
           }
          ],
          "contour": [
           {
            "colorbar": {
             "outlinewidth": 0,
             "ticks": ""
            },
            "colorscale": [
             [
              0,
              "#0d0887"
             ],
             [
              0.1111111111111111,
              "#46039f"
             ],
             [
              0.2222222222222222,
              "#7201a8"
             ],
             [
              0.3333333333333333,
              "#9c179e"
             ],
             [
              0.4444444444444444,
              "#bd3786"
             ],
             [
              0.5555555555555556,
              "#d8576b"
             ],
             [
              0.6666666666666666,
              "#ed7953"
             ],
             [
              0.7777777777777778,
              "#fb9f3a"
             ],
             [
              0.8888888888888888,
              "#fdca26"
             ],
             [
              1,
              "#f0f921"
             ]
            ],
            "type": "contour"
           }
          ],
          "contourcarpet": [
           {
            "colorbar": {
             "outlinewidth": 0,
             "ticks": ""
            },
            "type": "contourcarpet"
           }
          ],
          "heatmap": [
           {
            "colorbar": {
             "outlinewidth": 0,
             "ticks": ""
            },
            "colorscale": [
             [
              0,
              "#0d0887"
             ],
             [
              0.1111111111111111,
              "#46039f"
             ],
             [
              0.2222222222222222,
              "#7201a8"
             ],
             [
              0.3333333333333333,
              "#9c179e"
             ],
             [
              0.4444444444444444,
              "#bd3786"
             ],
             [
              0.5555555555555556,
              "#d8576b"
             ],
             [
              0.6666666666666666,
              "#ed7953"
             ],
             [
              0.7777777777777778,
              "#fb9f3a"
             ],
             [
              0.8888888888888888,
              "#fdca26"
             ],
             [
              1,
              "#f0f921"
             ]
            ],
            "type": "heatmap"
           }
          ],
          "histogram": [
           {
            "marker": {
             "pattern": {
              "fillmode": "overlay",
              "size": 10,
              "solidity": 0.2
             }
            },
            "type": "histogram"
           }
          ],
          "histogram2d": [
           {
            "colorbar": {
             "outlinewidth": 0,
             "ticks": ""
            },
            "colorscale": [
             [
              0,
              "#0d0887"
             ],
             [
              0.1111111111111111,
              "#46039f"
             ],
             [
              0.2222222222222222,
              "#7201a8"
             ],
             [
              0.3333333333333333,
              "#9c179e"
             ],
             [
              0.4444444444444444,
              "#bd3786"
             ],
             [
              0.5555555555555556,
              "#d8576b"
             ],
             [
              0.6666666666666666,
              "#ed7953"
             ],
             [
              0.7777777777777778,
              "#fb9f3a"
             ],
             [
              0.8888888888888888,
              "#fdca26"
             ],
             [
              1,
              "#f0f921"
             ]
            ],
            "type": "histogram2d"
           }
          ],
          "histogram2dcontour": [
           {
            "colorbar": {
             "outlinewidth": 0,
             "ticks": ""
            },
            "colorscale": [
             [
              0,
              "#0d0887"
             ],
             [
              0.1111111111111111,
              "#46039f"
             ],
             [
              0.2222222222222222,
              "#7201a8"
             ],
             [
              0.3333333333333333,
              "#9c179e"
             ],
             [
              0.4444444444444444,
              "#bd3786"
             ],
             [
              0.5555555555555556,
              "#d8576b"
             ],
             [
              0.6666666666666666,
              "#ed7953"
             ],
             [
              0.7777777777777778,
              "#fb9f3a"
             ],
             [
              0.8888888888888888,
              "#fdca26"
             ],
             [
              1,
              "#f0f921"
             ]
            ],
            "type": "histogram2dcontour"
           }
          ],
          "mesh3d": [
           {
            "colorbar": {
             "outlinewidth": 0,
             "ticks": ""
            },
            "type": "mesh3d"
           }
          ],
          "parcoords": [
           {
            "line": {
             "colorbar": {
              "outlinewidth": 0,
              "ticks": ""
             }
            },
            "type": "parcoords"
           }
          ],
          "pie": [
           {
            "automargin": true,
            "type": "pie"
           }
          ],
          "scatter": [
           {
            "marker": {
             "line": {
              "color": "#283442"
             }
            },
            "type": "scatter"
           }
          ],
          "scatter3d": [
           {
            "line": {
             "colorbar": {
              "outlinewidth": 0,
              "ticks": ""
             }
            },
            "marker": {
             "colorbar": {
              "outlinewidth": 0,
              "ticks": ""
             }
            },
            "type": "scatter3d"
           }
          ],
          "scattercarpet": [
           {
            "marker": {
             "colorbar": {
              "outlinewidth": 0,
              "ticks": ""
             }
            },
            "type": "scattercarpet"
           }
          ],
          "scattergeo": [
           {
            "marker": {
             "colorbar": {
              "outlinewidth": 0,
              "ticks": ""
             }
            },
            "type": "scattergeo"
           }
          ],
          "scattergl": [
           {
            "marker": {
             "line": {
              "color": "#283442"
             }
            },
            "type": "scattergl"
           }
          ],
          "scattermap": [
           {
            "marker": {
             "colorbar": {
              "outlinewidth": 0,
              "ticks": ""
             }
            },
            "type": "scattermap"
           }
          ],
          "scattermapbox": [
           {
            "marker": {
             "colorbar": {
              "outlinewidth": 0,
              "ticks": ""
             }
            },
            "type": "scattermapbox"
           }
          ],
          "scatterpolar": [
           {
            "marker": {
             "colorbar": {
              "outlinewidth": 0,
              "ticks": ""
             }
            },
            "type": "scatterpolar"
           }
          ],
          "scatterpolargl": [
           {
            "marker": {
             "colorbar": {
              "outlinewidth": 0,
              "ticks": ""
             }
            },
            "type": "scatterpolargl"
           }
          ],
          "scatterternary": [
           {
            "marker": {
             "colorbar": {
              "outlinewidth": 0,
              "ticks": ""
             }
            },
            "type": "scatterternary"
           }
          ],
          "surface": [
           {
            "colorbar": {
             "outlinewidth": 0,
             "ticks": ""
            },
            "colorscale": [
             [
              0,
              "#0d0887"
             ],
             [
              0.1111111111111111,
              "#46039f"
             ],
             [
              0.2222222222222222,
              "#7201a8"
             ],
             [
              0.3333333333333333,
              "#9c179e"
             ],
             [
              0.4444444444444444,
              "#bd3786"
             ],
             [
              0.5555555555555556,
              "#d8576b"
             ],
             [
              0.6666666666666666,
              "#ed7953"
             ],
             [
              0.7777777777777778,
              "#fb9f3a"
             ],
             [
              0.8888888888888888,
              "#fdca26"
             ],
             [
              1,
              "#f0f921"
             ]
            ],
            "type": "surface"
           }
          ],
          "table": [
           {
            "cells": {
             "fill": {
              "color": "#506784"
             },
             "line": {
              "color": "rgb(17,17,17)"
             }
            },
            "header": {
             "fill": {
              "color": "#2a3f5f"
             },
             "line": {
              "color": "rgb(17,17,17)"
             }
            },
            "type": "table"
           }
          ]
         },
         "layout": {
          "annotationdefaults": {
           "arrowcolor": "#f2f5fa",
           "arrowhead": 0,
           "arrowwidth": 1
          },
          "autotypenumbers": "strict",
          "coloraxis": {
           "colorbar": {
            "outlinewidth": 0,
            "ticks": ""
           }
          },
          "colorscale": {
           "diverging": [
            [
             0,
             "#8e0152"
            ],
            [
             0.1,
             "#c51b7d"
            ],
            [
             0.2,
             "#de77ae"
            ],
            [
             0.3,
             "#f1b6da"
            ],
            [
             0.4,
             "#fde0ef"
            ],
            [
             0.5,
             "#f7f7f7"
            ],
            [
             0.6,
             "#e6f5d0"
            ],
            [
             0.7,
             "#b8e186"
            ],
            [
             0.8,
             "#7fbc41"
            ],
            [
             0.9,
             "#4d9221"
            ],
            [
             1,
             "#276419"
            ]
           ],
           "sequential": [
            [
             0,
             "#0d0887"
            ],
            [
             0.1111111111111111,
             "#46039f"
            ],
            [
             0.2222222222222222,
             "#7201a8"
            ],
            [
             0.3333333333333333,
             "#9c179e"
            ],
            [
             0.4444444444444444,
             "#bd3786"
            ],
            [
             0.5555555555555556,
             "#d8576b"
            ],
            [
             0.6666666666666666,
             "#ed7953"
            ],
            [
             0.7777777777777778,
             "#fb9f3a"
            ],
            [
             0.8888888888888888,
             "#fdca26"
            ],
            [
             1,
             "#f0f921"
            ]
           ],
           "sequentialminus": [
            [
             0,
             "#0d0887"
            ],
            [
             0.1111111111111111,
             "#46039f"
            ],
            [
             0.2222222222222222,
             "#7201a8"
            ],
            [
             0.3333333333333333,
             "#9c179e"
            ],
            [
             0.4444444444444444,
             "#bd3786"
            ],
            [
             0.5555555555555556,
             "#d8576b"
            ],
            [
             0.6666666666666666,
             "#ed7953"
            ],
            [
             0.7777777777777778,
             "#fb9f3a"
            ],
            [
             0.8888888888888888,
             "#fdca26"
            ],
            [
             1,
             "#f0f921"
            ]
           ]
          },
          "colorway": [
           "#636efa",
           "#EF553B",
           "#00cc96",
           "#ab63fa",
           "#FFA15A",
           "#19d3f3",
           "#FF6692",
           "#B6E880",
           "#FF97FF",
           "#FECB52"
          ],
          "font": {
           "color": "#f2f5fa"
          },
          "geo": {
           "bgcolor": "rgb(17,17,17)",
           "lakecolor": "rgb(17,17,17)",
           "landcolor": "rgb(17,17,17)",
           "showlakes": true,
           "showland": true,
           "subunitcolor": "#506784"
          },
          "hoverlabel": {
           "align": "left"
          },
          "hovermode": "closest",
          "mapbox": {
           "style": "dark"
          },
          "paper_bgcolor": "rgb(17,17,17)",
          "plot_bgcolor": "rgb(17,17,17)",
          "polar": {
           "angularaxis": {
            "gridcolor": "#506784",
            "linecolor": "#506784",
            "ticks": ""
           },
           "bgcolor": "rgb(17,17,17)",
           "radialaxis": {
            "gridcolor": "#506784",
            "linecolor": "#506784",
            "ticks": ""
           }
          },
          "scene": {
           "xaxis": {
            "backgroundcolor": "rgb(17,17,17)",
            "gridcolor": "#506784",
            "gridwidth": 2,
            "linecolor": "#506784",
            "showbackground": true,
            "ticks": "",
            "zerolinecolor": "#C8D4E3"
           },
           "yaxis": {
            "backgroundcolor": "rgb(17,17,17)",
            "gridcolor": "#506784",
            "gridwidth": 2,
            "linecolor": "#506784",
            "showbackground": true,
            "ticks": "",
            "zerolinecolor": "#C8D4E3"
           },
           "zaxis": {
            "backgroundcolor": "rgb(17,17,17)",
            "gridcolor": "#506784",
            "gridwidth": 2,
            "linecolor": "#506784",
            "showbackground": true,
            "ticks": "",
            "zerolinecolor": "#C8D4E3"
           }
          },
          "shapedefaults": {
           "line": {
            "color": "#f2f5fa"
           }
          },
          "sliderdefaults": {
           "bgcolor": "#C8D4E3",
           "bordercolor": "rgb(17,17,17)",
           "borderwidth": 1,
           "tickwidth": 0
          },
          "ternary": {
           "aaxis": {
            "gridcolor": "#506784",
            "linecolor": "#506784",
            "ticks": ""
           },
           "baxis": {
            "gridcolor": "#506784",
            "linecolor": "#506784",
            "ticks": ""
           },
           "bgcolor": "rgb(17,17,17)",
           "caxis": {
            "gridcolor": "#506784",
            "linecolor": "#506784",
            "ticks": ""
           }
          },
          "title": {
           "x": 0.05
          },
          "updatemenudefaults": {
           "bgcolor": "#506784",
           "borderwidth": 0
          },
          "xaxis": {
           "automargin": true,
           "gridcolor": "#283442",
           "linecolor": "#506784",
           "ticks": "",
           "title": {
            "standoff": 15
           },
           "zerolinecolor": "#283442",
           "zerolinewidth": 2
          },
          "yaxis": {
           "automargin": true,
           "gridcolor": "#283442",
           "linecolor": "#506784",
           "ticks": "",
           "title": {
            "standoff": 15
           },
           "zerolinecolor": "#283442",
           "zerolinewidth": 2
          }
         }
        },
        "title": {
         "text": "<b>Rodent Counts Across New York City from 2010 to 2025</b><br><sup>During that time span, there was an average of 549,953 rodents per borough</sup>"
        },
        "xaxis": {
         "anchor": "y",
         "domain": [
          0,
          1
         ],
         "title": {
          "text": "Borough"
         }
        },
        "yaxis": {
         "anchor": "x",
         "domain": [
          0,
          1
         ],
         "title": {
          "text": "Number of Rodent Sightings (Count)"
         }
        }
       }
      }
     },
     "metadata": {},
     "output_type": "display_data"
    }
   ],
   "source": [
    "sightings_per_borough: px.bar = px.bar(\n",
    "    data_frame = df_grouped_by_borough_counts,\n",
    "    x = 'Borough',\n",
    "    y = 'len',\n",
    "    template = 'plotly_dark',\n",
    "    labels = {'len': 'Number of Rodent Sightings (Count)'},\n",
    "    text_auto = True\n",
    ")\n",
    "\n",
    "average_rodents: float = df_grouped_by_borough_counts.get_column('len').mean()\n",
    "\n",
    "sightings_per_borough.update_layout(\n",
    "    font_family = \"Raleway, sans-serif\",\n",
    "    title = dict(text=f'<b>Rodent Counts Across New York City from 2010 to 2025</b><br><sup>During that time span, there was an average of {average_rodents:,.0f} rodents per borough</sup>'),\n",
    "    legend = dict (\n",
    "        x = .5,\n",
    "        y = -.3,\n",
    "        orientation = 'h',\n",
    "        yanchor = 'bottom',\n",
    "        xanchor = 'center'\n",
    "    )\n",
    ")\n",
    "\n",
    "for bar in sightings_per_borough.data:\n",
    "    bar.marker.color = RAINBOW_COLOR_SEQ\n",
    "\n",
    "sightings_per_borough"
   ]
  },
  {
   "cell_type": "code",
   "execution_count": 11,
   "id": "e80bdec4",
   "metadata": {},
   "outputs": [],
   "source": [
    "sightings_per_borough.write_image('./figures/average_rodents_per_borough.png', scale = 6, engine = 'kaleido')"
   ]
  },
  {
   "cell_type": "code",
   "execution_count": 12,
   "id": "7e1badcc",
   "metadata": {},
   "outputs": [
    {
     "data": {
      "text/html": [
       "<div><style>\n",
       ".dataframe > thead > tr,\n",
       ".dataframe > tbody > tr {\n",
       "  text-align: right;\n",
       "  white-space: pre-wrap;\n",
       "}\n",
       "</style>\n",
       "<small>shape: (86, 3)</small><table border=\"1\" class=\"dataframe\"><thead><tr><th>Borough</th><th>Inspection_Date</th><th>Inspection_Counts</th></tr><tr><td>str</td><td>datetime[μs]</td><td>u32</td></tr></thead><tbody><tr><td>&quot;Bronx&quot;</td><td>2010-01-01 00:00:00</td><td>49361</td></tr><tr><td>&quot;Bronx&quot;</td><td>2011-01-01 00:00:00</td><td>39363</td></tr><tr><td>&quot;Bronx&quot;</td><td>2012-01-01 00:00:00</td><td>43302</td></tr><tr><td>&quot;Bronx&quot;</td><td>2013-01-01 00:00:00</td><td>51592</td></tr><tr><td>&quot;Bronx&quot;</td><td>2014-01-01 00:00:00</td><td>48324</td></tr><tr><td>&hellip;</td><td>&hellip;</td><td>&hellip;</td></tr><tr><td>null</td><td>2021-01-01 00:00:00</td><td>65</td></tr><tr><td>null</td><td>2022-01-01 00:00:00</td><td>83</td></tr><tr><td>null</td><td>2023-01-01 00:00:00</td><td>46</td></tr><tr><td>null</td><td>2024-01-01 00:00:00</td><td>43</td></tr><tr><td>null</td><td>2025-01-01 00:00:00</td><td>6</td></tr></tbody></table></div>"
      ],
      "text/plain": [
       "shape: (86, 3)\n",
       "┌─────────┬─────────────────────┬───────────────────┐\n",
       "│ Borough ┆ Inspection_Date     ┆ Inspection_Counts │\n",
       "│ ---     ┆ ---                 ┆ ---               │\n",
       "│ str     ┆ datetime[μs]        ┆ u32               │\n",
       "╞═════════╪═════════════════════╪═══════════════════╡\n",
       "│ Bronx   ┆ 2010-01-01 00:00:00 ┆ 49361             │\n",
       "│ Bronx   ┆ 2011-01-01 00:00:00 ┆ 39363             │\n",
       "│ Bronx   ┆ 2012-01-01 00:00:00 ┆ 43302             │\n",
       "│ Bronx   ┆ 2013-01-01 00:00:00 ┆ 51592             │\n",
       "│ Bronx   ┆ 2014-01-01 00:00:00 ┆ 48324             │\n",
       "│ …       ┆ …                   ┆ …                 │\n",
       "│ null    ┆ 2021-01-01 00:00:00 ┆ 65                │\n",
       "│ null    ┆ 2022-01-01 00:00:00 ┆ 83                │\n",
       "│ null    ┆ 2023-01-01 00:00:00 ┆ 46                │\n",
       "│ null    ┆ 2024-01-01 00:00:00 ┆ 43                │\n",
       "│ null    ┆ 2025-01-01 00:00:00 ┆ 6                 │\n",
       "└─────────┴─────────────────────┴───────────────────┘"
      ]
     },
     "execution_count": 12,
     "metadata": {},
     "output_type": "execute_result"
    }
   ],
   "source": [
    "# Create a dataframe that is grouped by each month and then also by each borough\n",
    "yearly_borough_counts: pl.DataFrame = (df\n",
    "    .sort('Inspection_Date')\n",
    "    .group_by_dynamic(\n",
    "        index_column='Inspection_Date',\n",
    "        every='1y',\n",
    "        group_by='Borough'\n",
    "    )\n",
    "    .agg(\n",
    "        pl.len().alias('Inspection_Counts')\n",
    "    )\n",
    ")\n",
    "\n",
    "yearly_borough_counts"
   ]
  },
  {
   "cell_type": "code",
   "execution_count": 15,
   "id": "38aa6d42",
   "metadata": {},
   "outputs": [
    {
     "data": {
      "text/html": [
       "<div><style>\n",
       ".dataframe > thead > tr,\n",
       ".dataframe > tbody > tr {\n",
       "  text-align: right;\n",
       "  white-space: pre-wrap;\n",
       "}\n",
       "</style>\n",
       "<small>shape: (16, 8)</small><table border=\"1\" class=\"dataframe\"><thead><tr><th>Inspection_Date</th><th>Year</th><th>Bronx</th><th>Queens</th><th>Brooklyn</th><th>Manhattan</th><th>Staten Island</th><th>mean</th></tr><tr><td>datetime[μs]</td><td>i32</td><td>u32</td><td>u32</td><td>u32</td><td>u32</td><td>u32</td><td>f64</td></tr></thead><tbody><tr><td>2010-01-01 00:00:00</td><td>2010</td><td>49361</td><td>17823</td><td>20816</td><td>57632</td><td>6903</td><td>25422.5</td></tr><tr><td>2011-01-01 00:00:00</td><td>2011</td><td>39363</td><td>20550</td><td>32969</td><td>55197</td><td>6176</td><td>25709.166667</td></tr><tr><td>2012-01-01 00:00:00</td><td>2012</td><td>43302</td><td>17200</td><td>52513</td><td>52774</td><td>4944</td><td>28455.5</td></tr><tr><td>2013-01-01 00:00:00</td><td>2013</td><td>51592</td><td>14372</td><td>26885</td><td>34570</td><td>3474</td><td>21815.5</td></tr><tr><td>2014-01-01 00:00:00</td><td>2014</td><td>48324</td><td>15377</td><td>28081</td><td>34801</td><td>6433</td><td>22169.333333</td></tr><tr><td>&hellip;</td><td>&hellip;</td><td>&hellip;</td><td>&hellip;</td><td>&hellip;</td><td>&hellip;</td><td>&hellip;</td><td>&hellip;</td></tr><tr><td>2021-01-01 00:00:00</td><td>2021</td><td>25349</td><td>7040</td><td>38877</td><td>31357</td><td>2614</td><td>17550.333333</td></tr><tr><td>2022-01-01 00:00:00</td><td>2022</td><td>63326</td><td>14870</td><td>85279</td><td>72203</td><td>2640</td><td>39733.5</td></tr><tr><td>2023-01-01 00:00:00</td><td>2023</td><td>66441</td><td>16104</td><td>71775</td><td>81214</td><td>2943</td><td>39753.833333</td></tr><tr><td>2024-01-01 00:00:00</td><td>2024</td><td>47085</td><td>16178</td><td>92001</td><td>73899</td><td>1697</td><td>38483.833333</td></tr><tr><td>2025-01-01 00:00:00</td><td>2025</td><td>11682</td><td>3612</td><td>23671</td><td>19116</td><td>341</td><td>9738.0</td></tr></tbody></table></div>"
      ],
      "text/plain": [
       "shape: (16, 8)\n",
       "┌─────────────────┬──────┬───────┬────────┬──────────┬───────────┬───────────────┬──────────────┐\n",
       "│ Inspection_Date ┆ Year ┆ Bronx ┆ Queens ┆ Brooklyn ┆ Manhattan ┆ Staten Island ┆ mean         │\n",
       "│ ---             ┆ ---  ┆ ---   ┆ ---    ┆ ---      ┆ ---       ┆ ---           ┆ ---          │\n",
       "│ datetime[μs]    ┆ i32  ┆ u32   ┆ u32    ┆ u32      ┆ u32       ┆ u32           ┆ f64          │\n",
       "╞═════════════════╪══════╪═══════╪════════╪══════════╪═══════════╪═══════════════╪══════════════╡\n",
       "│ 2010-01-01      ┆ 2010 ┆ 49361 ┆ 17823  ┆ 20816    ┆ 57632     ┆ 6903          ┆ 25422.5      │\n",
       "│ 00:00:00        ┆      ┆       ┆        ┆          ┆           ┆               ┆              │\n",
       "│ 2011-01-01      ┆ 2011 ┆ 39363 ┆ 20550  ┆ 32969    ┆ 55197     ┆ 6176          ┆ 25709.166667 │\n",
       "│ 00:00:00        ┆      ┆       ┆        ┆          ┆           ┆               ┆              │\n",
       "│ 2012-01-01      ┆ 2012 ┆ 43302 ┆ 17200  ┆ 52513    ┆ 52774     ┆ 4944          ┆ 28455.5      │\n",
       "│ 00:00:00        ┆      ┆       ┆        ┆          ┆           ┆               ┆              │\n",
       "│ 2013-01-01      ┆ 2013 ┆ 51592 ┆ 14372  ┆ 26885    ┆ 34570     ┆ 3474          ┆ 21815.5      │\n",
       "│ 00:00:00        ┆      ┆       ┆        ┆          ┆           ┆               ┆              │\n",
       "│ 2014-01-01      ┆ 2014 ┆ 48324 ┆ 15377  ┆ 28081    ┆ 34801     ┆ 6433          ┆ 22169.333333 │\n",
       "│ 00:00:00        ┆      ┆       ┆        ┆          ┆           ┆               ┆              │\n",
       "│ …               ┆ …    ┆ …     ┆ …      ┆ …        ┆ …         ┆ …             ┆ …            │\n",
       "│ 2021-01-01      ┆ 2021 ┆ 25349 ┆ 7040   ┆ 38877    ┆ 31357     ┆ 2614          ┆ 17550.333333 │\n",
       "│ 00:00:00        ┆      ┆       ┆        ┆          ┆           ┆               ┆              │\n",
       "│ 2022-01-01      ┆ 2022 ┆ 63326 ┆ 14870  ┆ 85279    ┆ 72203     ┆ 2640          ┆ 39733.5      │\n",
       "│ 00:00:00        ┆      ┆       ┆        ┆          ┆           ┆               ┆              │\n",
       "│ 2023-01-01      ┆ 2023 ┆ 66441 ┆ 16104  ┆ 71775    ┆ 81214     ┆ 2943          ┆ 39753.833333 │\n",
       "│ 00:00:00        ┆      ┆       ┆        ┆          ┆           ┆               ┆              │\n",
       "│ 2024-01-01      ┆ 2024 ┆ 47085 ┆ 16178  ┆ 92001    ┆ 73899     ┆ 1697          ┆ 38483.833333 │\n",
       "│ 00:00:00        ┆      ┆       ┆        ┆          ┆           ┆               ┆              │\n",
       "│ 2025-01-01      ┆ 2025 ┆ 11682 ┆ 3612   ┆ 23671    ┆ 19116     ┆ 341           ┆ 9738.0       │\n",
       "│ 00:00:00        ┆      ┆       ┆        ┆          ┆           ┆               ┆              │\n",
       "└─────────────────┴──────┴───────┴────────┴──────────┴───────────┴───────────────┴──────────────┘"
      ]
     },
     "execution_count": 15,
     "metadata": {},
     "output_type": "execute_result"
    }
   ],
   "source": [
    "# Then we can create a pivot table where each row is a data and each column is the borough values\n",
    "pivoted_counts: pl.DataFrame = yearly_borough_counts.pivot(\n",
    "    index = 'Inspection_Date',\n",
    "    on = 'Borough',\n",
    "    values = 'Inspection_Counts'\n",
    ")\n",
    "\n",
    "# Some values are null so we can fill those with 0\n",
    "pivoted_counts = pivoted_counts.fill_null(0)\n",
    "\n",
    "pivoted_counts = pivoted_counts.sort('Inspection_Date')\n",
    "\n",
    "# Get the Years extracted from the data\n",
    "YEARS = pivoted_counts.get_column('Inspection_Date').dt.year()\n",
    "\n",
    "# Add the mean of each month to the DataFrame\n",
    "pivoted_counts = pivoted_counts.with_columns(\n",
    "    pl.Series(name = 'Year', values = YEARS),\n",
    "    pl.Series(name = 'mean', values = list(map(lambda x: np.mean(x[1:]), pivoted_counts.rows())))\n",
    ")\n",
    "\n",
    "# Reorder the columns\n",
    "pivoted_counts = pivoted_counts.select(['Inspection_Date', 'Year', 'Bronx', 'Queens', 'Brooklyn', 'Manhattan', 'Staten Island', 'mean'])\n",
    "\n",
    "pivoted_counts"
   ]
  },
  {
   "cell_type": "code",
   "execution_count": 16,
   "id": "877db1c6",
   "metadata": {},
   "outputs": [
    {
     "data": {
      "application/vnd.plotly.v1+json": {
       "config": {
        "plotlyServerURL": "https://plot.ly"
       },
       "data": [
        {
         "marker": {
          "color": "#FFFFFF"
         },
         "showlegend": false,
         "type": "bar",
         "x": {
          "bdata": "2gcAANsHAADcBwAA3QcAAN4HAADfBwAA4AcAAOEHAADiBwAA4wcAAOQHAADlBwAA5gcAAOcHAADoBwAA6QcAAA==",
          "dtype": "i4"
         },
         "y": {
          "bdata": "AAAAAKDT2ECrqqqqShvZQAAAAADgydtAAAAAAOBN1UBVVVVVVabVQKuqqqoqp9VAVVVVVdWa3EAAAAAAgMHjQFVVVVVlR+RAVVVVVYXj40AAAAAAgHjHQFVVVVWVI9FAAAAAALBm40CrqqqqOmnjQKuqqqp6yuJAAAAAAAAFw0A=",
          "dtype": "f8"
         }
        },
        {
         "hovertext": "Bronx",
         "line": {
          "color": "#ffadad",
          "width": 3
         },
         "name": "Bronx",
         "type": "scatter",
         "x": {
          "bdata": "2gcAANsHAADcBwAA3QcAAN4HAADfBwAA4AcAAOEHAADiBwAA4wcAAOQHAADlBwAA5gcAAOcHAADoBwAA6QcAAA==",
          "dtype": "i4"
         },
         "y": {
          "bdata": "0cAAAMOZAAAmqQAAiMkAAMS8AAC92wAASNEAAOUWAQDv+AAAIvkAAK5DAAAFYwAAXvcAAIkDAQDttwAAoi0AAA==",
          "dtype": "u4"
         }
        },
        {
         "hovertext": "Queens",
         "line": {
          "color": "#ffd6a5",
          "width": 3
         },
         "name": "Queens",
         "type": "scatter",
         "x": {
          "bdata": "2gcAANsHAADcBwAA3QcAAN4HAADfBwAA4AcAAOEHAADiBwAA4wcAAOQHAADlBwAA5gcAAOcHAADoBwAA6QcAAA==",
          "dtype": "i4"
         },
         "y": {
          "bdata": "n0UAAEZQAAAwQwAAJDgAABE8AADMNwAAc0QAAD9bAADqMAAAtToAALwQAACAGwAAFjoAAOg+AAAyPwAAHA4AAA==",
          "dtype": "u4"
         }
        },
        {
         "hovertext": "Manhattan",
         "line": {
          "color": "#fdffb6",
          "width": 3
         },
         "name": "Manhattan",
         "type": "scatter",
         "x": {
          "bdata": "2gcAANsHAADcBwAA3QcAAN4HAADfBwAA4AcAAOEHAADiBwAA4wcAAOQHAADlBwAA5gcAAOcHAADoBwAA6QcAAA==",
          "dtype": "i4"
         },
         "y": {
          "bdata": "IOEAAJ3XAAAmzgAACocAAPGHAADdlQAA8QMBAL07AQBDRQEALywBAP5JAAB9egAACxoBAD49AQCrIAEArEoAAA==",
          "dtype": "u4"
         }
        },
        {
         "hovertext": "Brooklyn",
         "line": {
          "color": "#caffbf",
          "width": 3
         },
         "name": "Brooklyn",
         "type": "scatter",
         "x": {
          "bdata": "2gcAANsHAADcBwAA3QcAAN4HAADfBwAA4AcAAOEHAADiBwAA4wcAAOQHAADlBwAA5gcAAOcHAADoBwAA6QcAAA==",
          "dtype": "i4"
         },
         "y": {
          "bdata": "UFEAAMmAAAAhzQAABWkAALFtAABZVQAAloIAAAfuAACuTwEAr0kBAJN0AADdlwAAH00BAF8YAQBhZwEAd1wAAA==",
          "dtype": "u4"
         }
        },
        {
         "hovertext": "Staten Island",
         "line": {
          "color": "#9bf6ff",
          "width": 3
         },
         "name": "Staten Island",
         "type": "scatter",
         "x": {
          "bdata": "2gcAANsHAADcBwAA3QcAAN4HAADfBwAA4AcAAOEHAADiBwAA4wcAAOQHAADlBwAA5gcAAOcHAADoBwAA6QcAAA==",
          "dtype": "i4"
         },
         "y": {
          "bdata": "9xoAACAYAABQEwAAkg0AACEZAADtCAAAQhIAAGAYAACZDgAA9BAAAJQGAAA2CgAAUAoAAH8LAAChBgAAVQEAAA==",
          "dtype": "u4"
         }
        }
       ],
       "layout": {
        "font": {
         "family": "Raleway, sans-serif"
        },
        "template": {
         "data": {
          "bar": [
           {
            "error_x": {
             "color": "#f2f5fa"
            },
            "error_y": {
             "color": "#f2f5fa"
            },
            "marker": {
             "line": {
              "color": "rgb(17,17,17)",
              "width": 0.5
             },
             "pattern": {
              "fillmode": "overlay",
              "size": 10,
              "solidity": 0.2
             }
            },
            "type": "bar"
           }
          ],
          "barpolar": [
           {
            "marker": {
             "line": {
              "color": "rgb(17,17,17)",
              "width": 0.5
             },
             "pattern": {
              "fillmode": "overlay",
              "size": 10,
              "solidity": 0.2
             }
            },
            "type": "barpolar"
           }
          ],
          "carpet": [
           {
            "aaxis": {
             "endlinecolor": "#A2B1C6",
             "gridcolor": "#506784",
             "linecolor": "#506784",
             "minorgridcolor": "#506784",
             "startlinecolor": "#A2B1C6"
            },
            "baxis": {
             "endlinecolor": "#A2B1C6",
             "gridcolor": "#506784",
             "linecolor": "#506784",
             "minorgridcolor": "#506784",
             "startlinecolor": "#A2B1C6"
            },
            "type": "carpet"
           }
          ],
          "choropleth": [
           {
            "colorbar": {
             "outlinewidth": 0,
             "ticks": ""
            },
            "type": "choropleth"
           }
          ],
          "contour": [
           {
            "colorbar": {
             "outlinewidth": 0,
             "ticks": ""
            },
            "colorscale": [
             [
              0,
              "#0d0887"
             ],
             [
              0.1111111111111111,
              "#46039f"
             ],
             [
              0.2222222222222222,
              "#7201a8"
             ],
             [
              0.3333333333333333,
              "#9c179e"
             ],
             [
              0.4444444444444444,
              "#bd3786"
             ],
             [
              0.5555555555555556,
              "#d8576b"
             ],
             [
              0.6666666666666666,
              "#ed7953"
             ],
             [
              0.7777777777777778,
              "#fb9f3a"
             ],
             [
              0.8888888888888888,
              "#fdca26"
             ],
             [
              1,
              "#f0f921"
             ]
            ],
            "type": "contour"
           }
          ],
          "contourcarpet": [
           {
            "colorbar": {
             "outlinewidth": 0,
             "ticks": ""
            },
            "type": "contourcarpet"
           }
          ],
          "heatmap": [
           {
            "colorbar": {
             "outlinewidth": 0,
             "ticks": ""
            },
            "colorscale": [
             [
              0,
              "#0d0887"
             ],
             [
              0.1111111111111111,
              "#46039f"
             ],
             [
              0.2222222222222222,
              "#7201a8"
             ],
             [
              0.3333333333333333,
              "#9c179e"
             ],
             [
              0.4444444444444444,
              "#bd3786"
             ],
             [
              0.5555555555555556,
              "#d8576b"
             ],
             [
              0.6666666666666666,
              "#ed7953"
             ],
             [
              0.7777777777777778,
              "#fb9f3a"
             ],
             [
              0.8888888888888888,
              "#fdca26"
             ],
             [
              1,
              "#f0f921"
             ]
            ],
            "type": "heatmap"
           }
          ],
          "histogram": [
           {
            "marker": {
             "pattern": {
              "fillmode": "overlay",
              "size": 10,
              "solidity": 0.2
             }
            },
            "type": "histogram"
           }
          ],
          "histogram2d": [
           {
            "colorbar": {
             "outlinewidth": 0,
             "ticks": ""
            },
            "colorscale": [
             [
              0,
              "#0d0887"
             ],
             [
              0.1111111111111111,
              "#46039f"
             ],
             [
              0.2222222222222222,
              "#7201a8"
             ],
             [
              0.3333333333333333,
              "#9c179e"
             ],
             [
              0.4444444444444444,
              "#bd3786"
             ],
             [
              0.5555555555555556,
              "#d8576b"
             ],
             [
              0.6666666666666666,
              "#ed7953"
             ],
             [
              0.7777777777777778,
              "#fb9f3a"
             ],
             [
              0.8888888888888888,
              "#fdca26"
             ],
             [
              1,
              "#f0f921"
             ]
            ],
            "type": "histogram2d"
           }
          ],
          "histogram2dcontour": [
           {
            "colorbar": {
             "outlinewidth": 0,
             "ticks": ""
            },
            "colorscale": [
             [
              0,
              "#0d0887"
             ],
             [
              0.1111111111111111,
              "#46039f"
             ],
             [
              0.2222222222222222,
              "#7201a8"
             ],
             [
              0.3333333333333333,
              "#9c179e"
             ],
             [
              0.4444444444444444,
              "#bd3786"
             ],
             [
              0.5555555555555556,
              "#d8576b"
             ],
             [
              0.6666666666666666,
              "#ed7953"
             ],
             [
              0.7777777777777778,
              "#fb9f3a"
             ],
             [
              0.8888888888888888,
              "#fdca26"
             ],
             [
              1,
              "#f0f921"
             ]
            ],
            "type": "histogram2dcontour"
           }
          ],
          "mesh3d": [
           {
            "colorbar": {
             "outlinewidth": 0,
             "ticks": ""
            },
            "type": "mesh3d"
           }
          ],
          "parcoords": [
           {
            "line": {
             "colorbar": {
              "outlinewidth": 0,
              "ticks": ""
             }
            },
            "type": "parcoords"
           }
          ],
          "pie": [
           {
            "automargin": true,
            "type": "pie"
           }
          ],
          "scatter": [
           {
            "marker": {
             "line": {
              "color": "#283442"
             }
            },
            "type": "scatter"
           }
          ],
          "scatter3d": [
           {
            "line": {
             "colorbar": {
              "outlinewidth": 0,
              "ticks": ""
             }
            },
            "marker": {
             "colorbar": {
              "outlinewidth": 0,
              "ticks": ""
             }
            },
            "type": "scatter3d"
           }
          ],
          "scattercarpet": [
           {
            "marker": {
             "colorbar": {
              "outlinewidth": 0,
              "ticks": ""
             }
            },
            "type": "scattercarpet"
           }
          ],
          "scattergeo": [
           {
            "marker": {
             "colorbar": {
              "outlinewidth": 0,
              "ticks": ""
             }
            },
            "type": "scattergeo"
           }
          ],
          "scattergl": [
           {
            "marker": {
             "line": {
              "color": "#283442"
             }
            },
            "type": "scattergl"
           }
          ],
          "scattermap": [
           {
            "marker": {
             "colorbar": {
              "outlinewidth": 0,
              "ticks": ""
             }
            },
            "type": "scattermap"
           }
          ],
          "scattermapbox": [
           {
            "marker": {
             "colorbar": {
              "outlinewidth": 0,
              "ticks": ""
             }
            },
            "type": "scattermapbox"
           }
          ],
          "scatterpolar": [
           {
            "marker": {
             "colorbar": {
              "outlinewidth": 0,
              "ticks": ""
             }
            },
            "type": "scatterpolar"
           }
          ],
          "scatterpolargl": [
           {
            "marker": {
             "colorbar": {
              "outlinewidth": 0,
              "ticks": ""
             }
            },
            "type": "scatterpolargl"
           }
          ],
          "scatterternary": [
           {
            "marker": {
             "colorbar": {
              "outlinewidth": 0,
              "ticks": ""
             }
            },
            "type": "scatterternary"
           }
          ],
          "surface": [
           {
            "colorbar": {
             "outlinewidth": 0,
             "ticks": ""
            },
            "colorscale": [
             [
              0,
              "#0d0887"
             ],
             [
              0.1111111111111111,
              "#46039f"
             ],
             [
              0.2222222222222222,
              "#7201a8"
             ],
             [
              0.3333333333333333,
              "#9c179e"
             ],
             [
              0.4444444444444444,
              "#bd3786"
             ],
             [
              0.5555555555555556,
              "#d8576b"
             ],
             [
              0.6666666666666666,
              "#ed7953"
             ],
             [
              0.7777777777777778,
              "#fb9f3a"
             ],
             [
              0.8888888888888888,
              "#fdca26"
             ],
             [
              1,
              "#f0f921"
             ]
            ],
            "type": "surface"
           }
          ],
          "table": [
           {
            "cells": {
             "fill": {
              "color": "#506784"
             },
             "line": {
              "color": "rgb(17,17,17)"
             }
            },
            "header": {
             "fill": {
              "color": "#2a3f5f"
             },
             "line": {
              "color": "rgb(17,17,17)"
             }
            },
            "type": "table"
           }
          ]
         },
         "layout": {
          "annotationdefaults": {
           "arrowcolor": "#f2f5fa",
           "arrowhead": 0,
           "arrowwidth": 1
          },
          "autotypenumbers": "strict",
          "coloraxis": {
           "colorbar": {
            "outlinewidth": 0,
            "ticks": ""
           }
          },
          "colorscale": {
           "diverging": [
            [
             0,
             "#8e0152"
            ],
            [
             0.1,
             "#c51b7d"
            ],
            [
             0.2,
             "#de77ae"
            ],
            [
             0.3,
             "#f1b6da"
            ],
            [
             0.4,
             "#fde0ef"
            ],
            [
             0.5,
             "#f7f7f7"
            ],
            [
             0.6,
             "#e6f5d0"
            ],
            [
             0.7,
             "#b8e186"
            ],
            [
             0.8,
             "#7fbc41"
            ],
            [
             0.9,
             "#4d9221"
            ],
            [
             1,
             "#276419"
            ]
           ],
           "sequential": [
            [
             0,
             "#0d0887"
            ],
            [
             0.1111111111111111,
             "#46039f"
            ],
            [
             0.2222222222222222,
             "#7201a8"
            ],
            [
             0.3333333333333333,
             "#9c179e"
            ],
            [
             0.4444444444444444,
             "#bd3786"
            ],
            [
             0.5555555555555556,
             "#d8576b"
            ],
            [
             0.6666666666666666,
             "#ed7953"
            ],
            [
             0.7777777777777778,
             "#fb9f3a"
            ],
            [
             0.8888888888888888,
             "#fdca26"
            ],
            [
             1,
             "#f0f921"
            ]
           ],
           "sequentialminus": [
            [
             0,
             "#0d0887"
            ],
            [
             0.1111111111111111,
             "#46039f"
            ],
            [
             0.2222222222222222,
             "#7201a8"
            ],
            [
             0.3333333333333333,
             "#9c179e"
            ],
            [
             0.4444444444444444,
             "#bd3786"
            ],
            [
             0.5555555555555556,
             "#d8576b"
            ],
            [
             0.6666666666666666,
             "#ed7953"
            ],
            [
             0.7777777777777778,
             "#fb9f3a"
            ],
            [
             0.8888888888888888,
             "#fdca26"
            ],
            [
             1,
             "#f0f921"
            ]
           ]
          },
          "colorway": [
           "#636efa",
           "#EF553B",
           "#00cc96",
           "#ab63fa",
           "#FFA15A",
           "#19d3f3",
           "#FF6692",
           "#B6E880",
           "#FF97FF",
           "#FECB52"
          ],
          "font": {
           "color": "#f2f5fa"
          },
          "geo": {
           "bgcolor": "rgb(17,17,17)",
           "lakecolor": "rgb(17,17,17)",
           "landcolor": "rgb(17,17,17)",
           "showlakes": true,
           "showland": true,
           "subunitcolor": "#506784"
          },
          "hoverlabel": {
           "align": "left"
          },
          "hovermode": "closest",
          "mapbox": {
           "style": "dark"
          },
          "paper_bgcolor": "rgb(17,17,17)",
          "plot_bgcolor": "rgb(17,17,17)",
          "polar": {
           "angularaxis": {
            "gridcolor": "#506784",
            "linecolor": "#506784",
            "ticks": ""
           },
           "bgcolor": "rgb(17,17,17)",
           "radialaxis": {
            "gridcolor": "#506784",
            "linecolor": "#506784",
            "ticks": ""
           }
          },
          "scene": {
           "xaxis": {
            "backgroundcolor": "rgb(17,17,17)",
            "gridcolor": "#506784",
            "gridwidth": 2,
            "linecolor": "#506784",
            "showbackground": true,
            "ticks": "",
            "zerolinecolor": "#C8D4E3"
           },
           "yaxis": {
            "backgroundcolor": "rgb(17,17,17)",
            "gridcolor": "#506784",
            "gridwidth": 2,
            "linecolor": "#506784",
            "showbackground": true,
            "ticks": "",
            "zerolinecolor": "#C8D4E3"
           },
           "zaxis": {
            "backgroundcolor": "rgb(17,17,17)",
            "gridcolor": "#506784",
            "gridwidth": 2,
            "linecolor": "#506784",
            "showbackground": true,
            "ticks": "",
            "zerolinecolor": "#C8D4E3"
           }
          },
          "shapedefaults": {
           "line": {
            "color": "#f2f5fa"
           }
          },
          "sliderdefaults": {
           "bgcolor": "#C8D4E3",
           "bordercolor": "rgb(17,17,17)",
           "borderwidth": 1,
           "tickwidth": 0
          },
          "ternary": {
           "aaxis": {
            "gridcolor": "#506784",
            "linecolor": "#506784",
            "ticks": ""
           },
           "baxis": {
            "gridcolor": "#506784",
            "linecolor": "#506784",
            "ticks": ""
           },
           "bgcolor": "rgb(17,17,17)",
           "caxis": {
            "gridcolor": "#506784",
            "linecolor": "#506784",
            "ticks": ""
           }
          },
          "title": {
           "x": 0.05
          },
          "updatemenudefaults": {
           "bgcolor": "#506784",
           "borderwidth": 0
          },
          "xaxis": {
           "automargin": true,
           "gridcolor": "#283442",
           "linecolor": "#506784",
           "ticks": "",
           "title": {
            "standoff": 15
           },
           "zerolinecolor": "#283442",
           "zerolinewidth": 2
          },
          "yaxis": {
           "automargin": true,
           "gridcolor": "#283442",
           "linecolor": "#506784",
           "ticks": "",
           "title": {
            "standoff": 15
           },
           "zerolinecolor": "#283442",
           "zerolinewidth": 2
          }
         }
        },
        "title": {
         "text": "<b>Rodent Inspections By Year For Every Borough</b><br><sub><em>Compared to Mean Inspections Across the City</em></sub>"
        }
       }
      }
     },
     "metadata": {},
     "output_type": "display_data"
    }
   ],
   "source": [
    "# can also do visualization where we have the mean of each year and then trendlines for the count of each Borough\n",
    "yearly_rodents_by_borough: go.Figure = go.Figure()\n",
    "\n",
    "# Adding the mean barchart\n",
    "yearly_rodents_by_borough.add_trace(\n",
    "    go.Bar(\n",
    "        x = YEARS,\n",
    "        y = pivoted_counts.get_column('mean'),\n",
    "        marker = dict(color = '#FFFFFF'),\n",
    "        showlegend = False\n",
    "    )\n",
    ")\n",
    "\n",
    "# Adding the line charts for each borough\n",
    "for i, borough in enumerate(['Bronx', 'Queens', 'Manhattan', 'Brooklyn', 'Staten Island']):\n",
    "    data = pivoted_counts.get_column(borough)\n",
    "    color = RAINBOW_COLOR_SEQ[i]\n",
    "    yearly_rodents_by_borough.add_trace(\n",
    "        go.Scatter(\n",
    "            x = YEARS,\n",
    "            y = data,\n",
    "            hovertext = borough,\n",
    "            name = borough,\n",
    "            line = dict(color=color, width=3)\n",
    "        )\n",
    "    )\n",
    "\n",
    "# Styling\n",
    "yearly_rodents_by_borough.update_layout(\n",
    "    template = 'plotly_dark',\n",
    "    title = dict(text = '<b>Rodent Inspections By Year For Every Borough</b><br><sub><em>Compared to Mean Inspections Across the City</em></sub>'),\n",
    "    font_family = \"Raleway, sans-serif\",\n",
    ")\n",
    "\n",
    "yearly_rodents_by_borough"
   ]
  },
  {
   "cell_type": "code",
   "execution_count": 17,
   "id": "676c0ad7",
   "metadata": {},
   "outputs": [],
   "source": [
    "yearly_rodents_by_borough.write_image('./figures/yearly_rodents_per_borough.png', scale = 6, engine = 'kaleido')"
   ]
  },
  {
   "cell_type": "code",
   "execution_count": 18,
   "id": "0f57258d",
   "metadata": {},
   "outputs": [
    {
     "data": {
      "text/html": [
       "<div><style>\n",
       ".dataframe > thead > tr,\n",
       ".dataframe > tbody > tr {\n",
       "  text-align: right;\n",
       "  white-space: pre-wrap;\n",
       "}\n",
       "</style>\n",
       "<small>shape: (968, 4)</small><table border=\"1\" class=\"dataframe\"><thead><tr><th>Borough</th><th>Inspection_Date</th><th>Inspection_Counts</th><th>Month</th></tr><tr><td>str</td><td>datetime[μs]</td><td>u32</td><td>str</td></tr></thead><tbody><tr><td>&quot;Bronx&quot;</td><td>2010-01-01 00:00:00</td><td>1187</td><td>&quot;January&quot;</td></tr><tr><td>&quot;Bronx&quot;</td><td>2010-02-01 00:00:00</td><td>1476</td><td>&quot;February&quot;</td></tr><tr><td>&quot;Bronx&quot;</td><td>2010-03-01 00:00:00</td><td>1565</td><td>&quot;March&quot;</td></tr><tr><td>&quot;Bronx&quot;</td><td>2010-04-01 00:00:00</td><td>2010</td><td>&quot;April&quot;</td></tr><tr><td>&quot;Bronx&quot;</td><td>2010-05-01 00:00:00</td><td>5341</td><td>&quot;May&quot;</td></tr><tr><td>&hellip;</td><td>&hellip;</td><td>&hellip;</td><td>&hellip;</td></tr><tr><td>null</td><td>2024-10-01 00:00:00</td><td>4</td><td>&quot;October&quot;</td></tr><tr><td>null</td><td>2024-11-01 00:00:00</td><td>2</td><td>&quot;November&quot;</td></tr><tr><td>null</td><td>2024-12-01 00:00:00</td><td>10</td><td>&quot;December&quot;</td></tr><tr><td>null</td><td>2025-02-01 00:00:00</td><td>5</td><td>&quot;February&quot;</td></tr><tr><td>null</td><td>2025-03-01 00:00:00</td><td>1</td><td>&quot;March&quot;</td></tr></tbody></table></div>"
      ],
      "text/plain": [
       "shape: (968, 4)\n",
       "┌─────────┬─────────────────────┬───────────────────┬──────────┐\n",
       "│ Borough ┆ Inspection_Date     ┆ Inspection_Counts ┆ Month    │\n",
       "│ ---     ┆ ---                 ┆ ---               ┆ ---      │\n",
       "│ str     ┆ datetime[μs]        ┆ u32               ┆ str      │\n",
       "╞═════════╪═════════════════════╪═══════════════════╪══════════╡\n",
       "│ Bronx   ┆ 2010-01-01 00:00:00 ┆ 1187              ┆ January  │\n",
       "│ Bronx   ┆ 2010-02-01 00:00:00 ┆ 1476              ┆ February │\n",
       "│ Bronx   ┆ 2010-03-01 00:00:00 ┆ 1565              ┆ March    │\n",
       "│ Bronx   ┆ 2010-04-01 00:00:00 ┆ 2010              ┆ April    │\n",
       "│ Bronx   ┆ 2010-05-01 00:00:00 ┆ 5341              ┆ May      │\n",
       "│ …       ┆ …                   ┆ …                 ┆ …        │\n",
       "│ null    ┆ 2024-10-01 00:00:00 ┆ 4                 ┆ October  │\n",
       "│ null    ┆ 2024-11-01 00:00:00 ┆ 2                 ┆ November │\n",
       "│ null    ┆ 2024-12-01 00:00:00 ┆ 10                ┆ December │\n",
       "│ null    ┆ 2025-02-01 00:00:00 ┆ 5                 ┆ February │\n",
       "│ null    ┆ 2025-03-01 00:00:00 ┆ 1                 ┆ March    │\n",
       "└─────────┴─────────────────────┴───────────────────┴──────────┘"
      ]
     },
     "execution_count": 18,
     "metadata": {},
     "output_type": "execute_result"
    }
   ],
   "source": [
    "# Create a dataframe that is grouped by each month and then also by each borough\n",
    "monthly_rodent_counts: pl.DataFrame = (df\n",
    "    .sort('Inspection_Date')\n",
    "    .group_by_dynamic(\n",
    "        index_column='Inspection_Date',\n",
    "        every='1mo',\n",
    "        group_by='Borough'\n",
    "    )\n",
    "    .agg(\n",
    "        pl.len().alias('Inspection_Counts')\n",
    "    )\n",
    ")\n",
    "\n",
    "\n",
    "# Convert Integer Months to Named Months\n",
    "MONTHS = ['January', 'February', 'March', 'April', 'May', 'June', 'July', 'August', 'September', 'October', 'November', 'December']\n",
    "\n",
    "monthly_rodent_counts = monthly_rodent_counts.with_columns(\n",
    "    pl.col('Inspection_Date')\n",
    "    .dt.strftime(\"%B\")\n",
    "    .alias('Month')\n",
    ")\n",
    "\n",
    "monthly_rodent_counts"
   ]
  },
  {
   "cell_type": "code",
   "execution_count": 19,
   "id": "b91df732",
   "metadata": {},
   "outputs": [
    {
     "data": {
      "text/html": [
       "<div><style>\n",
       ".dataframe > thead > tr,\n",
       ".dataframe > tbody > tr {\n",
       "  text-align: right;\n",
       "  white-space: pre-wrap;\n",
       "}\n",
       "</style>\n",
       "<small>shape: (72, 4)</small><table border=\"1\" class=\"dataframe\"><thead><tr><th>Month</th><th>Borough</th><th>Inspection_Date</th><th>Inspection_Counts</th></tr><tr><td>str</td><td>str</td><td>datetime[μs]</td><td>f64</td></tr></thead><tbody><tr><td>&quot;April&quot;</td><td>&quot;Staten Island&quot;</td><td>2017-07-31 14:24:00</td><td>396.933333</td></tr><tr><td>&quot;April&quot;</td><td>&quot;Queens&quot;</td><td>2017-07-31 14:24:00</td><td>1524.666667</td></tr><tr><td>&quot;April&quot;</td><td>null</td><td>2022-09-30 18:00:00</td><td>4.5</td></tr><tr><td>&quot;April&quot;</td><td>&quot;Manhattan&quot;</td><td>2017-09-30 12:00:00</td><td>5928.5</td></tr><tr><td>&quot;April&quot;</td><td>&quot;Brooklyn&quot;</td><td>2017-07-31 14:24:00</td><td>4718.0</td></tr><tr><td>&hellip;</td><td>&hellip;</td><td>&hellip;</td><td>&hellip;</td></tr><tr><td>&quot;September&quot;</td><td>null</td><td>2022-09-01 04:48:00</td><td>5.6</td></tr><tr><td>&quot;September&quot;</td><td>&quot;Queens&quot;</td><td>2017-08-31 20:48:00</td><td>1307.066667</td></tr><tr><td>&quot;September&quot;</td><td>&quot;Brooklyn&quot;</td><td>2017-08-31 20:48:00</td><td>4202.4</td></tr><tr><td>&quot;September&quot;</td><td>&quot;Manhattan&quot;</td><td>2017-08-31 20:48:00</td><td>4375.733333</td></tr><tr><td>&quot;September&quot;</td><td>&quot;Bronx&quot;</td><td>2017-08-31 20:48:00</td><td>4452.733333</td></tr></tbody></table></div>"
      ],
      "text/plain": [
       "shape: (72, 4)\n",
       "┌───────────┬───────────────┬─────────────────────┬───────────────────┐\n",
       "│ Month     ┆ Borough       ┆ Inspection_Date     ┆ Inspection_Counts │\n",
       "│ ---       ┆ ---           ┆ ---                 ┆ ---               │\n",
       "│ str       ┆ str           ┆ datetime[μs]        ┆ f64               │\n",
       "╞═══════════╪═══════════════╪═════════════════════╪═══════════════════╡\n",
       "│ April     ┆ Staten Island ┆ 2017-07-31 14:24:00 ┆ 396.933333        │\n",
       "│ April     ┆ Queens        ┆ 2017-07-31 14:24:00 ┆ 1524.666667       │\n",
       "│ April     ┆ null          ┆ 2022-09-30 18:00:00 ┆ 4.5               │\n",
       "│ April     ┆ Manhattan     ┆ 2017-09-30 12:00:00 ┆ 5928.5            │\n",
       "│ April     ┆ Brooklyn      ┆ 2017-07-31 14:24:00 ┆ 4718.0            │\n",
       "│ …         ┆ …             ┆ …                   ┆ …                 │\n",
       "│ September ┆ null          ┆ 2022-09-01 04:48:00 ┆ 5.6               │\n",
       "│ September ┆ Queens        ┆ 2017-08-31 20:48:00 ┆ 1307.066667       │\n",
       "│ September ┆ Brooklyn      ┆ 2017-08-31 20:48:00 ┆ 4202.4            │\n",
       "│ September ┆ Manhattan     ┆ 2017-08-31 20:48:00 ┆ 4375.733333       │\n",
       "│ September ┆ Bronx         ┆ 2017-08-31 20:48:00 ┆ 4452.733333       │\n",
       "└───────────┴───────────────┴─────────────────────┴───────────────────┘"
      ]
     },
     "metadata": {},
     "output_type": "display_data"
    },
    {
     "data": {
      "text/html": [
       "<div><style>\n",
       ".dataframe > thead > tr,\n",
       ".dataframe > tbody > tr {\n",
       "  text-align: right;\n",
       "  white-space: pre-wrap;\n",
       "}\n",
       "</style>\n",
       "<small>shape: (12, 2)</small><table border=\"1\" class=\"dataframe\"><thead><tr><th>Month</th><th>Inspection_Counts</th></tr><tr><td>str</td><td>f64</td></tr></thead><tbody><tr><td>&quot;January&quot;</td><td>2393.829268</td></tr><tr><td>&quot;April&quot;</td><td>3185.679012</td></tr><tr><td>&quot;May&quot;</td><td>3098.025641</td></tr><tr><td>&quot;July&quot;</td><td>2779.670886</td></tr><tr><td>&quot;September&quot;</td><td>2759.2125</td></tr><tr><td>&hellip;</td><td>&hellip;</td></tr><tr><td>&quot;June&quot;</td><td>2938.265823</td></tr><tr><td>&quot;October&quot;</td><td>2697.85</td></tr><tr><td>&quot;February&quot;</td><td>2560.870588</td></tr><tr><td>&quot;November&quot;</td><td>2547.75</td></tr><tr><td>&quot;March&quot;</td><td>3270.595238</td></tr></tbody></table></div>"
      ],
      "text/plain": [
       "shape: (12, 2)\n",
       "┌───────────┬───────────────────┐\n",
       "│ Month     ┆ Inspection_Counts │\n",
       "│ ---       ┆ ---               │\n",
       "│ str       ┆ f64               │\n",
       "╞═══════════╪═══════════════════╡\n",
       "│ January   ┆ 2393.829268       │\n",
       "│ April     ┆ 3185.679012       │\n",
       "│ May       ┆ 3098.025641       │\n",
       "│ July      ┆ 2779.670886       │\n",
       "│ September ┆ 2759.2125         │\n",
       "│ …         ┆ …                 │\n",
       "│ June      ┆ 2938.265823       │\n",
       "│ October   ┆ 2697.85           │\n",
       "│ February  ┆ 2560.870588       │\n",
       "│ November  ┆ 2547.75           │\n",
       "│ March     ┆ 3270.595238       │\n",
       "└───────────┴───────────────────┘"
      ]
     },
     "metadata": {},
     "output_type": "display_data"
    }
   ],
   "source": [
    "# Group the monthly_rodent_counts by month now so we can get the mean\n",
    "monthly_rodent_counts_grouped_borough: pl.DataFrame = (\n",
    "    monthly_rodent_counts\n",
    "    .group_by(['Month', 'Borough'])\n",
    "    .mean()\n",
    ").sort('Month')\n",
    "\n",
    "display(monthly_rodent_counts_grouped_borough)\n",
    "\n",
    "# Do this overall for every month (regardless of boroughs)\n",
    "monthly_rodent_counts_grouped_total: pl.DataFrame = (\n",
    "    monthly_rodent_counts\n",
    "    .group_by(['Month'])\n",
    "    .mean()\n",
    "    .drop([pl.col('Borough'), pl.col('Inspection_Date')])                                    \n",
    ")\n",
    "\n",
    "display(monthly_rodent_counts_grouped_total)"
   ]
  },
  {
   "cell_type": "code",
   "execution_count": 20,
   "id": "ae6c8c36",
   "metadata": {},
   "outputs": [
    {
     "data": {
      "application/vnd.plotly.v1+json": {
       "config": {
        "plotlyServerURL": "https://plot.ly"
       },
       "data": [
        {
         "marker": {
          "color": "#FFFFFF"
         },
         "showlegend": false,
         "type": "bar",
         "x": [
          "January",
          "February",
          "March",
          "April",
          "May",
          "June",
          "July",
          "August",
          "September",
          "October",
          "November",
          "December"
         ],
         "y": {
          "bdata": "XonalaizokCLlIGnW+OoQCEN0iANNKhAFzdhfle3pUDNzMzMbI6lQDMzMzOTdaRAZmZmZqZ1p0CVjuwZiPSmQDMzMzOzE6VAvr29vb0BpEAAAAAAgOejQMMwDMMwjalA",
          "dtype": "f8"
         }
        },
        {
         "hovertext": "Bronx",
         "line": {
          "color": "#ffadad",
          "width": 3
         },
         "name": "Bronx",
         "type": "scatter",
         "x": [
          "January",
          "February",
          "March",
          "April",
          "May",
          "June",
          "July",
          "August",
          "September",
          "October",
          "November",
          "December"
         ],
         "y": {
          "bdata": "AAAAAIAKr0AiIiIiItW0QLy7u7u7M61AAAAAAAAIrkAAAAAAwEmqQJqZmZmZLbJAEREREREOsUAAAAAAQPCwQFVVVVVVr7FAZmZmZmYOrEDv7u7u7pOwQLy7u7u7ZLFA",
          "dtype": "f8"
         }
        },
        {
         "hovertext": "Queens",
         "line": {
          "color": "#ffd6a5",
          "width": 3
         },
         "name": "Queens",
         "type": "scatter",
         "x": [
          "January",
          "February",
          "March",
          "April",
          "May",
          "June",
          "July",
          "August",
          "September",
          "October",
          "November",
          "December"
         ],
         "y": {
          "bdata": "q6qqqqrSl0CrqqqqqhqSQN7d3d3dQZJAAAAAAADkkkAAAAAAwEyQQLy7u7u725BAiYiIiIjkk0AAAAAAgOaXQM3MzMzMKJZA7+7u7u5Wk0AAAAAAANSRQEREREREbJRA",
          "dtype": "f8"
         }
        },
        {
         "hovertext": "Manhattan",
         "line": {
          "color": "#fdffb6",
          "width": 3
         },
         "name": "Manhattan",
         "type": "scatter",
         "x": [
          "January",
          "February",
          "March",
          "April",
          "May",
          "June",
          "July",
          "August",
          "September",
          "October",
          "November",
          "December"
         ],
         "y": {
          "bdata": "AAAAAIAot0DNzMzMzOCyQKuqqqqqWbFAAAAAAMDorkAAAAAAgO+uQDMzMzMz0LFAzczMzMzNs0AAAAAAkOy2QM3MzMzMi7VAERERERHPsEBmZmZmZhmxQLy7u7u7F7FA",
          "dtype": "f8"
         }
        },
        {
         "hovertext": "Brooklyn",
         "line": {
          "color": "#caffbf",
          "width": 3
         },
         "name": "Brooklyn",
         "type": "scatter",
         "x": [
          "January",
          "February",
          "March",
          "April",
          "May",
          "June",
          "July",
          "August",
          "September",
          "October",
          "November",
          "December"
         ],
         "y": {
          "bdata": "AAAAAABuskAiIiIiItewQERERERE3LBAAAAAAKCYsEAAAAAAAFOsQHd3d3d3b69AAAAAAAB6sUAAAAAAoL+zQERERERE5rBAMzMzMzMXsEBmZmZmZu6wQGZmZmZmarBA",
          "dtype": "f8"
         }
        },
        {
         "hovertext": "Staten Island",
         "line": {
          "color": "#9bf6ff",
          "width": 3
         },
         "name": "Staten Island",
         "type": "scatter",
         "x": [
          "January",
          "February",
          "March",
          "April",
          "May",
          "June",
          "July",
          "August",
          "September",
          "October",
          "November",
          "December"
         ],
         "y": {
          "bdata": "7+7u7u7OeEB3d3d3d5d3QBERERER0XJAAAAAAACWdUAAAAAAAChxQBEREREREXRAVVVVVVUlckAAAAAAALZ3QHd3d3d3B3RAERERERHxdEC8u7u7uytyQAAAAAAAgHdA",
          "dtype": "f8"
         }
        }
       ],
       "layout": {
        "font": {
         "family": "Raleway, sans-serif"
        },
        "template": {
         "data": {
          "bar": [
           {
            "error_x": {
             "color": "#f2f5fa"
            },
            "error_y": {
             "color": "#f2f5fa"
            },
            "marker": {
             "line": {
              "color": "rgb(17,17,17)",
              "width": 0.5
             },
             "pattern": {
              "fillmode": "overlay",
              "size": 10,
              "solidity": 0.2
             }
            },
            "type": "bar"
           }
          ],
          "barpolar": [
           {
            "marker": {
             "line": {
              "color": "rgb(17,17,17)",
              "width": 0.5
             },
             "pattern": {
              "fillmode": "overlay",
              "size": 10,
              "solidity": 0.2
             }
            },
            "type": "barpolar"
           }
          ],
          "carpet": [
           {
            "aaxis": {
             "endlinecolor": "#A2B1C6",
             "gridcolor": "#506784",
             "linecolor": "#506784",
             "minorgridcolor": "#506784",
             "startlinecolor": "#A2B1C6"
            },
            "baxis": {
             "endlinecolor": "#A2B1C6",
             "gridcolor": "#506784",
             "linecolor": "#506784",
             "minorgridcolor": "#506784",
             "startlinecolor": "#A2B1C6"
            },
            "type": "carpet"
           }
          ],
          "choropleth": [
           {
            "colorbar": {
             "outlinewidth": 0,
             "ticks": ""
            },
            "type": "choropleth"
           }
          ],
          "contour": [
           {
            "colorbar": {
             "outlinewidth": 0,
             "ticks": ""
            },
            "colorscale": [
             [
              0,
              "#0d0887"
             ],
             [
              0.1111111111111111,
              "#46039f"
             ],
             [
              0.2222222222222222,
              "#7201a8"
             ],
             [
              0.3333333333333333,
              "#9c179e"
             ],
             [
              0.4444444444444444,
              "#bd3786"
             ],
             [
              0.5555555555555556,
              "#d8576b"
             ],
             [
              0.6666666666666666,
              "#ed7953"
             ],
             [
              0.7777777777777778,
              "#fb9f3a"
             ],
             [
              0.8888888888888888,
              "#fdca26"
             ],
             [
              1,
              "#f0f921"
             ]
            ],
            "type": "contour"
           }
          ],
          "contourcarpet": [
           {
            "colorbar": {
             "outlinewidth": 0,
             "ticks": ""
            },
            "type": "contourcarpet"
           }
          ],
          "heatmap": [
           {
            "colorbar": {
             "outlinewidth": 0,
             "ticks": ""
            },
            "colorscale": [
             [
              0,
              "#0d0887"
             ],
             [
              0.1111111111111111,
              "#46039f"
             ],
             [
              0.2222222222222222,
              "#7201a8"
             ],
             [
              0.3333333333333333,
              "#9c179e"
             ],
             [
              0.4444444444444444,
              "#bd3786"
             ],
             [
              0.5555555555555556,
              "#d8576b"
             ],
             [
              0.6666666666666666,
              "#ed7953"
             ],
             [
              0.7777777777777778,
              "#fb9f3a"
             ],
             [
              0.8888888888888888,
              "#fdca26"
             ],
             [
              1,
              "#f0f921"
             ]
            ],
            "type": "heatmap"
           }
          ],
          "histogram": [
           {
            "marker": {
             "pattern": {
              "fillmode": "overlay",
              "size": 10,
              "solidity": 0.2
             }
            },
            "type": "histogram"
           }
          ],
          "histogram2d": [
           {
            "colorbar": {
             "outlinewidth": 0,
             "ticks": ""
            },
            "colorscale": [
             [
              0,
              "#0d0887"
             ],
             [
              0.1111111111111111,
              "#46039f"
             ],
             [
              0.2222222222222222,
              "#7201a8"
             ],
             [
              0.3333333333333333,
              "#9c179e"
             ],
             [
              0.4444444444444444,
              "#bd3786"
             ],
             [
              0.5555555555555556,
              "#d8576b"
             ],
             [
              0.6666666666666666,
              "#ed7953"
             ],
             [
              0.7777777777777778,
              "#fb9f3a"
             ],
             [
              0.8888888888888888,
              "#fdca26"
             ],
             [
              1,
              "#f0f921"
             ]
            ],
            "type": "histogram2d"
           }
          ],
          "histogram2dcontour": [
           {
            "colorbar": {
             "outlinewidth": 0,
             "ticks": ""
            },
            "colorscale": [
             [
              0,
              "#0d0887"
             ],
             [
              0.1111111111111111,
              "#46039f"
             ],
             [
              0.2222222222222222,
              "#7201a8"
             ],
             [
              0.3333333333333333,
              "#9c179e"
             ],
             [
              0.4444444444444444,
              "#bd3786"
             ],
             [
              0.5555555555555556,
              "#d8576b"
             ],
             [
              0.6666666666666666,
              "#ed7953"
             ],
             [
              0.7777777777777778,
              "#fb9f3a"
             ],
             [
              0.8888888888888888,
              "#fdca26"
             ],
             [
              1,
              "#f0f921"
             ]
            ],
            "type": "histogram2dcontour"
           }
          ],
          "mesh3d": [
           {
            "colorbar": {
             "outlinewidth": 0,
             "ticks": ""
            },
            "type": "mesh3d"
           }
          ],
          "parcoords": [
           {
            "line": {
             "colorbar": {
              "outlinewidth": 0,
              "ticks": ""
             }
            },
            "type": "parcoords"
           }
          ],
          "pie": [
           {
            "automargin": true,
            "type": "pie"
           }
          ],
          "scatter": [
           {
            "marker": {
             "line": {
              "color": "#283442"
             }
            },
            "type": "scatter"
           }
          ],
          "scatter3d": [
           {
            "line": {
             "colorbar": {
              "outlinewidth": 0,
              "ticks": ""
             }
            },
            "marker": {
             "colorbar": {
              "outlinewidth": 0,
              "ticks": ""
             }
            },
            "type": "scatter3d"
           }
          ],
          "scattercarpet": [
           {
            "marker": {
             "colorbar": {
              "outlinewidth": 0,
              "ticks": ""
             }
            },
            "type": "scattercarpet"
           }
          ],
          "scattergeo": [
           {
            "marker": {
             "colorbar": {
              "outlinewidth": 0,
              "ticks": ""
             }
            },
            "type": "scattergeo"
           }
          ],
          "scattergl": [
           {
            "marker": {
             "line": {
              "color": "#283442"
             }
            },
            "type": "scattergl"
           }
          ],
          "scattermap": [
           {
            "marker": {
             "colorbar": {
              "outlinewidth": 0,
              "ticks": ""
             }
            },
            "type": "scattermap"
           }
          ],
          "scattermapbox": [
           {
            "marker": {
             "colorbar": {
              "outlinewidth": 0,
              "ticks": ""
             }
            },
            "type": "scattermapbox"
           }
          ],
          "scatterpolar": [
           {
            "marker": {
             "colorbar": {
              "outlinewidth": 0,
              "ticks": ""
             }
            },
            "type": "scatterpolar"
           }
          ],
          "scatterpolargl": [
           {
            "marker": {
             "colorbar": {
              "outlinewidth": 0,
              "ticks": ""
             }
            },
            "type": "scatterpolargl"
           }
          ],
          "scatterternary": [
           {
            "marker": {
             "colorbar": {
              "outlinewidth": 0,
              "ticks": ""
             }
            },
            "type": "scatterternary"
           }
          ],
          "surface": [
           {
            "colorbar": {
             "outlinewidth": 0,
             "ticks": ""
            },
            "colorscale": [
             [
              0,
              "#0d0887"
             ],
             [
              0.1111111111111111,
              "#46039f"
             ],
             [
              0.2222222222222222,
              "#7201a8"
             ],
             [
              0.3333333333333333,
              "#9c179e"
             ],
             [
              0.4444444444444444,
              "#bd3786"
             ],
             [
              0.5555555555555556,
              "#d8576b"
             ],
             [
              0.6666666666666666,
              "#ed7953"
             ],
             [
              0.7777777777777778,
              "#fb9f3a"
             ],
             [
              0.8888888888888888,
              "#fdca26"
             ],
             [
              1,
              "#f0f921"
             ]
            ],
            "type": "surface"
           }
          ],
          "table": [
           {
            "cells": {
             "fill": {
              "color": "#506784"
             },
             "line": {
              "color": "rgb(17,17,17)"
             }
            },
            "header": {
             "fill": {
              "color": "#2a3f5f"
             },
             "line": {
              "color": "rgb(17,17,17)"
             }
            },
            "type": "table"
           }
          ]
         },
         "layout": {
          "annotationdefaults": {
           "arrowcolor": "#f2f5fa",
           "arrowhead": 0,
           "arrowwidth": 1
          },
          "autotypenumbers": "strict",
          "coloraxis": {
           "colorbar": {
            "outlinewidth": 0,
            "ticks": ""
           }
          },
          "colorscale": {
           "diverging": [
            [
             0,
             "#8e0152"
            ],
            [
             0.1,
             "#c51b7d"
            ],
            [
             0.2,
             "#de77ae"
            ],
            [
             0.3,
             "#f1b6da"
            ],
            [
             0.4,
             "#fde0ef"
            ],
            [
             0.5,
             "#f7f7f7"
            ],
            [
             0.6,
             "#e6f5d0"
            ],
            [
             0.7,
             "#b8e186"
            ],
            [
             0.8,
             "#7fbc41"
            ],
            [
             0.9,
             "#4d9221"
            ],
            [
             1,
             "#276419"
            ]
           ],
           "sequential": [
            [
             0,
             "#0d0887"
            ],
            [
             0.1111111111111111,
             "#46039f"
            ],
            [
             0.2222222222222222,
             "#7201a8"
            ],
            [
             0.3333333333333333,
             "#9c179e"
            ],
            [
             0.4444444444444444,
             "#bd3786"
            ],
            [
             0.5555555555555556,
             "#d8576b"
            ],
            [
             0.6666666666666666,
             "#ed7953"
            ],
            [
             0.7777777777777778,
             "#fb9f3a"
            ],
            [
             0.8888888888888888,
             "#fdca26"
            ],
            [
             1,
             "#f0f921"
            ]
           ],
           "sequentialminus": [
            [
             0,
             "#0d0887"
            ],
            [
             0.1111111111111111,
             "#46039f"
            ],
            [
             0.2222222222222222,
             "#7201a8"
            ],
            [
             0.3333333333333333,
             "#9c179e"
            ],
            [
             0.4444444444444444,
             "#bd3786"
            ],
            [
             0.5555555555555556,
             "#d8576b"
            ],
            [
             0.6666666666666666,
             "#ed7953"
            ],
            [
             0.7777777777777778,
             "#fb9f3a"
            ],
            [
             0.8888888888888888,
             "#fdca26"
            ],
            [
             1,
             "#f0f921"
            ]
           ]
          },
          "colorway": [
           "#636efa",
           "#EF553B",
           "#00cc96",
           "#ab63fa",
           "#FFA15A",
           "#19d3f3",
           "#FF6692",
           "#B6E880",
           "#FF97FF",
           "#FECB52"
          ],
          "font": {
           "color": "#f2f5fa"
          },
          "geo": {
           "bgcolor": "rgb(17,17,17)",
           "lakecolor": "rgb(17,17,17)",
           "landcolor": "rgb(17,17,17)",
           "showlakes": true,
           "showland": true,
           "subunitcolor": "#506784"
          },
          "hoverlabel": {
           "align": "left"
          },
          "hovermode": "closest",
          "mapbox": {
           "style": "dark"
          },
          "paper_bgcolor": "rgb(17,17,17)",
          "plot_bgcolor": "rgb(17,17,17)",
          "polar": {
           "angularaxis": {
            "gridcolor": "#506784",
            "linecolor": "#506784",
            "ticks": ""
           },
           "bgcolor": "rgb(17,17,17)",
           "radialaxis": {
            "gridcolor": "#506784",
            "linecolor": "#506784",
            "ticks": ""
           }
          },
          "scene": {
           "xaxis": {
            "backgroundcolor": "rgb(17,17,17)",
            "gridcolor": "#506784",
            "gridwidth": 2,
            "linecolor": "#506784",
            "showbackground": true,
            "ticks": "",
            "zerolinecolor": "#C8D4E3"
           },
           "yaxis": {
            "backgroundcolor": "rgb(17,17,17)",
            "gridcolor": "#506784",
            "gridwidth": 2,
            "linecolor": "#506784",
            "showbackground": true,
            "ticks": "",
            "zerolinecolor": "#C8D4E3"
           },
           "zaxis": {
            "backgroundcolor": "rgb(17,17,17)",
            "gridcolor": "#506784",
            "gridwidth": 2,
            "linecolor": "#506784",
            "showbackground": true,
            "ticks": "",
            "zerolinecolor": "#C8D4E3"
           }
          },
          "shapedefaults": {
           "line": {
            "color": "#f2f5fa"
           }
          },
          "sliderdefaults": {
           "bgcolor": "#C8D4E3",
           "bordercolor": "rgb(17,17,17)",
           "borderwidth": 1,
           "tickwidth": 0
          },
          "ternary": {
           "aaxis": {
            "gridcolor": "#506784",
            "linecolor": "#506784",
            "ticks": ""
           },
           "baxis": {
            "gridcolor": "#506784",
            "linecolor": "#506784",
            "ticks": ""
           },
           "bgcolor": "rgb(17,17,17)",
           "caxis": {
            "gridcolor": "#506784",
            "linecolor": "#506784",
            "ticks": ""
           }
          },
          "title": {
           "x": 0.05
          },
          "updatemenudefaults": {
           "bgcolor": "#506784",
           "borderwidth": 0
          },
          "xaxis": {
           "automargin": true,
           "gridcolor": "#283442",
           "linecolor": "#506784",
           "ticks": "",
           "title": {
            "standoff": 15
           },
           "zerolinecolor": "#283442",
           "zerolinewidth": 2
          },
          "yaxis": {
           "automargin": true,
           "gridcolor": "#283442",
           "linecolor": "#506784",
           "ticks": "",
           "title": {
            "standoff": 15
           },
           "zerolinecolor": "#283442",
           "zerolinewidth": 2
          }
         }
        },
        "title": {
         "text": "<b>Rodent Inspections By Average Monthly Inspections For Every Borough</b><br><sub><em>Compared to Average Inspections Across the City</em></sub>"
        }
       }
      }
     },
     "metadata": {},
     "output_type": "display_data"
    }
   ],
   "source": [
    "# get all of the medians each of the months (jan, feb, march) and then plot that with the same per-borough approach as above\n",
    "# can also do visualization where we have the mean of each year and then trendlines for the count of each Borough\n",
    "average_monthly_rodents_by_borough: go.Figure = go.Figure()\n",
    "\n",
    "# Adding the mean barchart\n",
    "average_monthly_rodents_by_borough.add_trace(\n",
    "    go.Bar(\n",
    "        x = MONTHS,\n",
    "        y = monthly_rodent_counts_grouped_total.get_column('Inspection_Counts'),\n",
    "        marker = dict(color = '#FFFFFF'),\n",
    "        showlegend = False\n",
    "    )\n",
    ")\n",
    "\n",
    "# Adding the line charts for each borough\n",
    "for i, borough in enumerate(['Bronx', 'Queens', 'Manhattan', 'Brooklyn', 'Staten Island']):\n",
    "    data = monthly_rodent_counts_grouped_borough.filter(pl.col('Borough') == borough)\n",
    "    color = RAINBOW_COLOR_SEQ[i]\n",
    "    average_monthly_rodents_by_borough.add_trace(\n",
    "        go.Scatter(\n",
    "            x = MONTHS,\n",
    "            y = data.get_column('Inspection_Counts'),\n",
    "            hovertext = borough,\n",
    "            name = borough,\n",
    "            line = dict(color=color, width=3)\n",
    "        )\n",
    "    )\n",
    "\n",
    "# Styling\n",
    "average_monthly_rodents_by_borough.update_layout(\n",
    "    template = 'plotly_dark',\n",
    "    title = dict(text = '<b>Rodent Inspections By Average Monthly Inspections For Every Borough</b><br><sub><em>Compared to Average Inspections Across the City</em></sub>'),\n",
    "    font_family = \"Raleway, sans-serif\",\n",
    ")\n",
    "\n",
    "average_monthly_rodents_by_borough"
   ]
  },
  {
   "cell_type": "code",
   "execution_count": 21,
   "id": "982ef81a",
   "metadata": {},
   "outputs": [],
   "source": [
    "average_monthly_rodents_by_borough.write_image('./figures/average_monthly_rodents_per_borough.png', scale = 6, engine = 'kaleido')"
   ]
  },
  {
   "cell_type": "code",
   "execution_count": null,
   "id": "a5e5469e",
   "metadata": {},
   "outputs": [],
   "source": []
  }
 ],
 "metadata": {
  "kernelspec": {
   "display_name": ".venv",
   "language": "python",
   "name": "python3"
  },
  "language_info": {
   "codemirror_mode": {
    "name": "ipython",
    "version": 3
   },
   "file_extension": ".py",
   "mimetype": "text/x-python",
   "name": "python",
   "nbconvert_exporter": "python",
   "pygments_lexer": "ipython3",
   "version": "3.12.0"
  }
 },
 "nbformat": 4,
 "nbformat_minor": 5
}
